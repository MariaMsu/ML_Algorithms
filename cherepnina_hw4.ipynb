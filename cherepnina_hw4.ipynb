{
 "cells": [
  {
   "cell_type": "markdown",
   "metadata": {},
   "source": [
    "# Алгоритмы интеллектуальной обработки больших объемов данных\n",
    "## Домашнее задание №4 - Метод k-средних, предобработка признаков\n"
   ]
  },
  {
   "cell_type": "markdown",
   "metadata": {},
   "source": [
    "###### <hr\\>\n",
    "**Общая информация**\n",
    "\n",
    "**Срок сдачи:** 28 ноября 2018, 06:00 <br\\>\n",
    "**Штраф за опоздание:** -2 балла после 06:00 28 ноября, -4 балла после 06:00 5 декабря, -6 баллов после 06:00 12 декабря, -8 баллов после 19 декабря\n",
    "\n",
    "При отправлении ДЗ указывайте фамилию в названии файла\n",
    "Присылать ДЗ необходимо в виде ссылки на свой github репозиторий в slack @alkhamush\n",
    "\n",
    "Необходимо в slack создать таск в приватный чат:\n",
    "/todo Фамилия Имя ссылка на гитхаб @alkhamush\n",
    "Пример:\n",
    "/todo Ксения Стройкова https://github.com/stroykova/spheremailru/stroykova_hw1.ipynb @alkhamush\n",
    "Дополнительно нужно просто скинуть ссылку в slack в личный чат\n",
    "\n",
    "Используйте данный Ipython Notebook при оформлении домашнего задания."
   ]
  },
  {
   "cell_type": "markdown",
   "metadata": {},
   "source": [
    "# Имплементация K-means\n",
    "\n",
    "Пользуясь наработками выше, имплементируйте метод k-means.  \n",
    "При инициализации необходимо задавать количество кластеров, функцию расстояния между кластерами (для оригинального k-means - евклидово расстояние) и начальное состояние генератора случайных чисел.\n",
    "\n",
    "После обучения, среди атрибутов класса `Kmeans` должны появится\n",
    "* Метки кластеров для объектов\n",
    "* Координаты центройдов кластеров\n",
    "\n",
    "k-means - это алгоритм **кластеризации**, а не классификации, а посему метод `.predict()` в нем фактически не нужен, но он может возвращать метки ближайшего кластера для объектов."
   ]
  },
  {
   "cell_type": "markdown",
   "metadata": {},
   "source": [
    "###### Задание 1 (2 баллов)\n",
    "Имплементируйте метод k-means. Задание считается выполненным, если Ваша реализация работает быстрее реализации из sklearn.\n",
    "\n",
    "Теория для выполнения задания 2 и 3 остаётся на самостоятельное изучение. Теории немного и она совсем простая.\n",
    "\n",
    "###### Задание 2 (2 балла)\n",
    "Имплементируйте класс MiniBatchKMeans, который является классом наследником Kmeans.\n",
    "\n",
    "###### Задание 3 (2 балла)\n",
    "Превратите k-means в k-means++. Для этого нужно реализовать метод в классе Kmeans, который будет инициализировать более \"хорошие\" значения центроидов. Чтобы использовался метод k-means++, в параметр init необходимо передать строковое значение 'k-means' (по умолчанию 'random').\n",
    "\n",
    "###### Задание 4 (2 балла)\n",
    "В пункте \"Проверка корректности метода\" нужно нарисовать графики, которые показывают зависимость времени выполнения алгоритма от количества сэмплов. Графики должны быть  нарисованы для различных комбинаций реализаций алгоритма (k-means, k-means++, k-means с MiniBatchKMeans, k-means++ с MiniBatchKMeans). График достаточно построить на 5-10 точках.\n",
    "\n",
    "###### Задание 5 (2 балла)\n",
    "В пункте \"Применение K-means на реальных данных\" нужно сравнить различные реализации k-means (k-means, k-means++, k-means с MiniBatchKMeans, k-means++ с MiniBatchKMeans). После чего написать вывод, в котором должно быть объяснение того, почему один алгоритм оказался лучше остальных или почему не было выявлено лучшего алгоритма.\n",
    "\n",
    "**Штрафные баллы:**\n",
    "\n",
    "1. Невыполнение PEP8 -1 балл\n",
    "2. Отсутствие фамилии в имени скрипта (скрипт должен называться по аналогии со stroykova_hw4.ipynb) -1 балл\n",
    "3. Все строчки должны быть выполнены. Нужно, чтобы output команды можно было увидеть уже в git'е. В противном случае -1 балл\n",
    "4. При оформлении ДЗ нужно пользоваться данным файлом в качестве шаблона. Не нужно удалять и видоизменять написанный код и текст. В противном случае -1 балл\n",
    "<hr\\>"
   ]
  },
  {
   "cell_type": "code",
   "execution_count": 1,
   "metadata": {},
   "outputs": [],
   "source": [
    "import pandas as pd\n",
    "import numpy as np\n",
    "import matplotlib.pyplot as plt\n",
    "from scipy.spatial import distance\n",
    "\n",
    "%matplotlib inline\n",
    "\n",
    "plt.style.use('ggplot')\n",
    "plt.rcParams['figure.figsize'] = (12,5)\n",
    "\n",
    "%load_ext pycodestyle_magic"
   ]
  },
  {
   "cell_type": "code",
   "execution_count": 146,
   "metadata": {},
   "outputs": [],
   "source": [
    "class MyKmeans:\n",
    "    def __init__(self, k=2, metric='euclidean', max_iter=10, random_state=None, init='random'):\n",
    "        \"\"\"\n",
    "        Инициализация метода\n",
    "        :k - количество кластеров\n",
    "        :metric - функция расстояния между объектами\n",
    "        :max_iter - максиальное количество итераций\n",
    "        :random_state - seed для инициализации генератора случайных чисел\n",
    "        \"\"\"\n",
    "\n",
    "        self.k = k\n",
    "        self.random_state = random_state\n",
    "        self.metric = metric\n",
    "        self.max_iter = max_iter\n",
    "        self.init = init\n",
    "\n",
    "    def _distance(self, a, b):\n",
    "        if self.metric == 'euclidean':\n",
    "#             print(a,b,distance.euclidean(np.nan_to_num(a), np.nan_to_num(b)))\n",
    "            return distance.euclidean(np.nan_to_num(a), np.nan_to_num(b))\n",
    "        else:\n",
    "            raise Exception(\"unexpected metric\")\n",
    "\n",
    "    def _label_assigner(self, X, centroids):\n",
    "        dist = np.empty(0, dtype=int)\n",
    "        for vector in X:\n",
    "            vector_dist = np.empty(0, dtype=int)\n",
    "            for core in centroids:\n",
    "                vector_dist = np.append(vector_dist, self._distance(core, vector))\n",
    "            dist = np.append(dist, np.argmin(vector_dist))\n",
    "        return dist\n",
    "\n",
    "    def _core_updater(self, X, labels):\n",
    "        cor_array = np.zeros((self.k, X.shape[1]))\n",
    "        counter = np.zeros(self.k)\n",
    "        for vector, lab in zip(X, labels):\n",
    "            cor_array[lab] += vector\n",
    "            counter[lab] += 1\n",
    "        counter[counter == 0] = 1\n",
    "        return cor_array / counter[:, None]\n",
    "\n",
    "    def fit(self, X, y=None):\n",
    "        \"\"\"\n",
    "        Процедура обучения k-means\n",
    "        \"\"\"\n",
    "\n",
    "        # Инициализация генератора случайных чисел\n",
    "        np.random.seed(self.random_state)\n",
    "\n",
    "        # Массив с метками кластеров для каждого объекта из X\n",
    "        self.labels = np.empty(X.shape[0], dtype=int)\n",
    "\n",
    "        # Массив с центройдами кластеров\n",
    "        self.centroids = np.empty((self.k, X.shape[1]))\n",
    "        if self.init == 'k-means':\n",
    "            for i in range(1, self.k):\n",
    "                dist = np.empty(X.shape[0])\n",
    "                for vector in X:\n",
    "                    dist[i] = np.min([self._distance(i, vector)\n",
    "                                      for i in self.centroids[:i]])\n",
    "                self.centroids[i] = X[np.random.choice(X.shape[0],\n",
    "                                                       p=dist / dist.sum())]\n",
    "\n",
    "        ## Your Code Here\n",
    "        counter = self.max_iter\n",
    "        difference = 100\n",
    "        while (counter > 0) and (difference > 10):\n",
    "            new_l = self._label_assigner(X, self.centroids)\n",
    "            difference = np.absolute((new_l - self.labels).sum())\n",
    "            self.labels = new_l\n",
    "            self.centroids = self._core_updater(X, self.labels)\n",
    "            counter -= 1\n",
    "        return self\n",
    "\n",
    "    def predict(self, X, y=None):\n",
    "        \"\"\"\n",
    "        Процедура предсказания кластера\n",
    "\n",
    "        Возвращает метку ближайшего кластера для каждого объекта\n",
    "        \"\"\"\n",
    "        return self._label_assigner(X, self.centroids)"
   ]
  },
  {
   "cell_type": "code",
   "execution_count": 147,
   "metadata": {},
   "outputs": [],
   "source": [
    "class MiniBatchKMeans(MyKmeans):\n",
    "    def __init__(self, k=2, metric='euclidean', max_iter=10, random_state=None, init='random', batch_size=1000):\n",
    "        MyKmeans.__init__(self, k=k, metric=metric, max_iter=max_iter, random_state=random_state, init=init)\n",
    "        self.batch_size = batch_size\n",
    "\n",
    "    def fit(self, X, y=None):\n",
    "        # Инициализация генератора случайных чисел\n",
    "        np.random.seed(self.random_state)\n",
    "\n",
    "        # Массив с метками кластеров для каждого объекта из X\n",
    "        self.labels = np.empty(X.shape[0], dtype=int)\n",
    "\n",
    "        # Массив с центройдами кластеров\n",
    "        self.centroids = np.empty((self.k, X.shape[1]))\n",
    "\n",
    "        ## Your Code Here\n",
    "        counter = self.max_iter\n",
    "        difference = 100\n",
    "        while (counter > 0) and (difference > 10):\n",
    "            new_l = self._label_assigner(X, self.centroids)\n",
    "            difference = np.absolute((new_l - self.labels).sum())\n",
    "            self.labels = new_l\n",
    "            self.centroids = self._core_updater(X, self.labels)\n",
    "            counter -= 1\n",
    "        return self"
   ]
  },
  {
   "cell_type": "markdown",
   "metadata": {},
   "source": [
    "### Проверка корректности метода\n",
    "\n",
    "Перед тем как применять алгоритм на реальных данных, нужно испытать его на простых \"игрушечных\" данных.\n",
    "\n",
    "Если алгоритм реализован правильно, то метод должен идеально разбивать на 3 кластера данные ниже. Проверьте это.\n",
    "\n",
    "ВНИМАНИЕ! Проверка должна быть осуществлена на всех реализациях, иначе реализация не будет зачтена!"
   ]
  },
  {
   "cell_type": "code",
   "execution_count": 6,
   "metadata": {},
   "outputs": [],
   "source": [
    "from sklearn.datasets import make_blobs"
   ]
  },
  {
   "cell_type": "code",
   "execution_count": 56,
   "metadata": {},
   "outputs": [],
   "source": [
    "X, y = make_blobs(n_samples=100, n_features=2, centers=3, cluster_std=1, \n",
    "           center_box=(-10.0, 10.0), shuffle=False, random_state=1234)"
   ]
  },
  {
   "cell_type": "code",
   "execution_count": 8,
   "metadata": {},
   "outputs": [
    {
     "data": {
      "text/plain": [
       "<matplotlib.collections.PathCollection at 0x7f089c577e48>"
      ]
     },
     "execution_count": 8,
     "metadata": {},
     "output_type": "execute_result"
    },
    {
     "data": {
      "image/png": "[encoded data removed]",
      "text/plain": [
       "<Figure size 432x288 with 1 Axes>"
      ]
     },
     "metadata": {},
     "output_type": "display_data"
    }
   ],
   "source": [
    "plt.scatter(X[:,0], X[:, 1], c=y)"
   ]
  },
  {
   "cell_type": "markdown",
   "metadata": {},
   "source": [
    "Проверьте Вашу имплементацию на простых данных (без этого пункта ДЗ не считается выполненным).   \n",
    "КОММЕНТАРИИ НЕ СТИРАТЬ!"
   ]
  },
  {
   "cell_type": "code",
   "execution_count": 9,
   "metadata": {},
   "outputs": [],
   "source": [
    "def check_method(method, X):\n",
    "    method.fit(X)\n",
    "    for centroid in method.centroids:\n",
    "        plt.scatter(centroid[0], centroid[1], s=500)\n",
    "    plt.scatter(X[:, 0], X[:, 1], c=y)\n",
    "    plt.show()"
   ]
  },
  {
   "cell_type": "code",
   "execution_count": 57,
   "metadata": {},
   "outputs": [
    {
     "data": {
      "image/png": "[encoded data removed]",
      "text/plain": [
       "<Figure size 432x288 with 1 Axes>"
      ]
     },
     "metadata": {},
     "output_type": "display_data"
    }
   ],
   "source": [
    "## Работоспособность MyKmeans\n",
    "check_method(MyKmeans(k=3, random_state=42), X)"
   ]
  },
  {
   "cell_type": "code",
   "execution_count": 16,
   "metadata": {},
   "outputs": [
    {
     "data": {
      "image/png": "[encoded data removed]",
      "text/plain": [
       "<Figure size 432x288 with 1 Axes>"
      ]
     },
     "metadata": {},
     "output_type": "display_data"
    }
   ],
   "source": [
    "## Работоспособность MyKmeans++\n",
    "check_method(MyKmeans(k=3, init='k-means'), X)"
   ]
  },
  {
   "cell_type": "code",
   "execution_count": 13,
   "metadata": {},
   "outputs": [
    {
     "data": {
      "image/png": "[encoded data removed]",
      "text/plain": [
       "<Figure size 432x288 with 1 Axes>"
      ]
     },
     "metadata": {},
     "output_type": "display_data"
    }
   ],
   "source": [
    "## Работоспособность MyKmeans с MiniBatchMyKmeans\n",
    "check_method(MiniBatchKMeans(k=3, random_state=42, batch_size = 10), X)"
   ]
  },
  {
   "cell_type": "code",
   "execution_count": 17,
   "metadata": {},
   "outputs": [
    {
     "data": {
      "image/png": "[encoded data removed]",
      "text/plain": [
       "<Figure size 432x288 with 1 Axes>"
      ]
     },
     "metadata": {},
     "output_type": "display_data"
    }
   ],
   "source": [
    "## Работоспособность MyKmeans++ с MiniBatchMyKmeans\n",
    "check_method(MiniBatchKMeans(k=3, init='k-means', batch_size = 10), X)"
   ]
  },
  {
   "cell_type": "code",
   "execution_count": 11,
   "metadata": {},
   "outputs": [],
   "source": [
    "from sklearn.cluster import KMeans"
   ]
  },
  {
   "cell_type": "code",
   "execution_count": 64,
   "metadata": {},
   "outputs": [
    {
     "name": "stdout",
     "output_type": "stream",
     "text": [
      "CPU times: user 33 ms, sys: 12 µs, total: 33 ms\n",
      "Wall time: 32.7 ms\n"
     ]
    }
   ],
   "source": [
    "%%time\n",
    "## Время выполнения алгоритма Kmeans из sklearn\n",
    "kmeans = KMeans(n_clusters=3, random_state=42)\n",
    "kmeans.fit(X)"
   ]
  },
  {
   "cell_type": "code",
   "execution_count": 65,
   "metadata": {},
   "outputs": [
    {
     "name": "stdout",
     "output_type": "stream",
     "text": [
      "CPU times: user 46.7 ms, sys: 0 ns, total: 46.7 ms\n",
      "Wall time: 47.1 ms\n"
     ]
    }
   ],
   "source": [
    "%%time\n",
    "## Время выполнения алгоритма MyKmeans\n",
    "mykmeans = MyKmeans(k=3, random_state=42)\n",
    "mykmeans.fit(X)"
   ]
  },
  {
   "cell_type": "code",
   "execution_count": 66,
   "metadata": {},
   "outputs": [
    {
     "name": "stdout",
     "output_type": "stream",
     "text": [
      "CPU times: user 35.1 ms, sys: 38 µs, total: 35.1 ms\n",
      "Wall time: 36.1 ms\n"
     ]
    }
   ],
   "source": [
    "%%time\n",
    "## Время выполнения алгоритма MyKmeans++\n",
    "mykmeans = MyKmeans(k=3, random_state=42, init = 'k_means')\n",
    "mykmeans.fit(X)"
   ]
  },
  {
   "cell_type": "code",
   "execution_count": 67,
   "metadata": {},
   "outputs": [
    {
     "name": "stdout",
     "output_type": "stream",
     "text": [
      "CPU times: user 48.2 ms, sys: 7.94 ms, total: 56.1 ms\n",
      "Wall time: 51.1 ms\n"
     ]
    }
   ],
   "source": [
    "%%time\n",
    "## Время выполнения алгоритма MyKmeans с MiniBatchMyKmeans\n",
    "mykmeans = MiniBatchKMeans(k=3, random_state=42, batch_size = 10)\n",
    "mykmeans.fit(X)"
   ]
  },
  {
   "cell_type": "code",
   "execution_count": 68,
   "metadata": {},
   "outputs": [
    {
     "name": "stdout",
     "output_type": "stream",
     "text": [
      "CPU times: user 28.7 ms, sys: 54 µs, total: 28.8 ms\n",
      "Wall time: 34.1 ms\n"
     ]
    }
   ],
   "source": [
    "%%time\n",
    "## Время выполнения алгоритма  MyKmeans++ с MiniBatchMyKmeans\n",
    "mykmeans = MiniBatchKMeans(k=3, random_state=42, batch_size = 10, init = 'k_means')\n",
    "mykmeans.fit(X)"
   ]
  },
  {
   "cell_type": "code",
   "execution_count": null,
   "metadata": {},
   "outputs": [],
   "source": [
    "from timeit import default_timer\n",
    "\n",
    "sizes = np.linspace(10, 10000, 10, dtype=int)\n",
    "methods = [(KMeans(n_clusters=3), 'sklearn KMeans'),\n",
    "          (MyKmeans(k=3, random_state=42), 'MyKmeans'),\n",
    "          (MyKmeans(k=3, random_state=42,\n",
    "                    init='k-means'), 'MyKmeans++'),\n",
    "          (MiniBatchKMeans(k=3, random_state=42, \n",
    "                           batch_size=10), 'MiniBatchKMeans'),\n",
    "          (MiniBatchKMeans(k=3, random_state=42,\n",
    "                           init='k-means', batch_size=10), \n",
    "                           'MiniBatchKMeans++')]\n",
    "time = np.empty((len(methods), sizes.shape[0]))\n",
    "\n",
    "for a, k in enumerate(sizes):\n",
    "    X, y = make_blobs(n_samples=k, n_features=2, centers=3,\n",
    "                      cluster_std=1, shuffle=True, random_state=42)\n",
    "\n",
    "    for b, method in enumerate(methods):\n",
    "        time0 = default_timer()\n",
    "        method[0].fit(X)\n",
    "        time[b][a] = default_timer() - time0\n",
    "\n",
    "for i, method in enumerate(methods):\n",
    "    plt.plot(sizes, time[i], label=method[1])\n",
    "\n",
    "plt.xlabel('Количество сэмплов')\n",
    "plt.ylabel('Время работы')\n",
    "plt.legend()\n",
    "plt.show()"
   ]
  },
  {
   "cell_type": "markdown",
   "metadata": {},
   "source": [
    "# Применение K-means на реальных данных"
   ]
  },
  {
   "cell_type": "markdown",
   "metadata": {},
   "source": [
    "Загрузите [данные](https://github.com/brenden17/sklearnlab/blob/master/facebook/snsdata.csv) в которых содержится описание интересов профилей учеников старшей школы США.  (без этого пункта задание не считается выполненным).   \n",
    "ВНИМАНИЕ! Проверка должна быть осуществлена на всех реализациях, иначе реализация не будет зачтена!"
   ]
  },
  {
   "cell_type": "code",
   "execution_count": 20,
   "metadata": {},
   "outputs": [
    {
     "data": {
      "text/html": [
       "<div>\n",
       "<style scoped>\n",
       "    .dataframe tbody tr th:only-of-type {\n",
       "        vertical-align: middle;\n",
       "    }\n",
       "\n",
       "    .dataframe tbody tr th {\n",
       "        vertical-align: top;\n",
       "    }\n",
       "\n",
       "    .dataframe thead th {\n",
       "        text-align: right;\n",
       "    }\n",
       "</style>\n",
       "<table border=\"1\" class=\"dataframe\">\n",
       "  <thead>\n",
       "    <tr style=\"text-align: right;\">\n",
       "      <th></th>\n",
       "      <th>0</th>\n",
       "      <th>1</th>\n",
       "      <th>2</th>\n",
       "      <th>3</th>\n",
       "      <th>4</th>\n",
       "    </tr>\n",
       "  </thead>\n",
       "  <tbody>\n",
       "    <tr>\n",
       "      <th>gradyear</th>\n",
       "      <td>2006</td>\n",
       "      <td>2006</td>\n",
       "      <td>2006</td>\n",
       "      <td>2006</td>\n",
       "      <td>2006</td>\n",
       "    </tr>\n",
       "    <tr>\n",
       "      <th>gender</th>\n",
       "      <td>M</td>\n",
       "      <td>F</td>\n",
       "      <td>M</td>\n",
       "      <td>F</td>\n",
       "      <td>NaN</td>\n",
       "    </tr>\n",
       "    <tr>\n",
       "      <th>age</th>\n",
       "      <td>18.982</td>\n",
       "      <td>18.801</td>\n",
       "      <td>18.335</td>\n",
       "      <td>18.875</td>\n",
       "      <td>18.995</td>\n",
       "    </tr>\n",
       "    <tr>\n",
       "      <th>friends</th>\n",
       "      <td>7</td>\n",
       "      <td>0</td>\n",
       "      <td>69</td>\n",
       "      <td>0</td>\n",
       "      <td>10</td>\n",
       "    </tr>\n",
       "    <tr>\n",
       "      <th>basketball</th>\n",
       "      <td>0</td>\n",
       "      <td>0</td>\n",
       "      <td>0</td>\n",
       "      <td>0</td>\n",
       "      <td>0</td>\n",
       "    </tr>\n",
       "    <tr>\n",
       "      <th>football</th>\n",
       "      <td>0</td>\n",
       "      <td>1</td>\n",
       "      <td>1</td>\n",
       "      <td>0</td>\n",
       "      <td>0</td>\n",
       "    </tr>\n",
       "    <tr>\n",
       "      <th>soccer</th>\n",
       "      <td>0</td>\n",
       "      <td>0</td>\n",
       "      <td>0</td>\n",
       "      <td>0</td>\n",
       "      <td>0</td>\n",
       "    </tr>\n",
       "    <tr>\n",
       "      <th>softball</th>\n",
       "      <td>0</td>\n",
       "      <td>0</td>\n",
       "      <td>0</td>\n",
       "      <td>0</td>\n",
       "      <td>0</td>\n",
       "    </tr>\n",
       "    <tr>\n",
       "      <th>volleyball</th>\n",
       "      <td>0</td>\n",
       "      <td>0</td>\n",
       "      <td>0</td>\n",
       "      <td>0</td>\n",
       "      <td>0</td>\n",
       "    </tr>\n",
       "    <tr>\n",
       "      <th>swimming</th>\n",
       "      <td>0</td>\n",
       "      <td>0</td>\n",
       "      <td>0</td>\n",
       "      <td>0</td>\n",
       "      <td>0</td>\n",
       "    </tr>\n",
       "    <tr>\n",
       "      <th>cheerleading</th>\n",
       "      <td>0</td>\n",
       "      <td>0</td>\n",
       "      <td>0</td>\n",
       "      <td>0</td>\n",
       "      <td>0</td>\n",
       "    </tr>\n",
       "    <tr>\n",
       "      <th>baseball</th>\n",
       "      <td>0</td>\n",
       "      <td>0</td>\n",
       "      <td>0</td>\n",
       "      <td>0</td>\n",
       "      <td>0</td>\n",
       "    </tr>\n",
       "    <tr>\n",
       "      <th>tennis</th>\n",
       "      <td>0</td>\n",
       "      <td>0</td>\n",
       "      <td>0</td>\n",
       "      <td>0</td>\n",
       "      <td>0</td>\n",
       "    </tr>\n",
       "    <tr>\n",
       "      <th>sports</th>\n",
       "      <td>0</td>\n",
       "      <td>0</td>\n",
       "      <td>0</td>\n",
       "      <td>0</td>\n",
       "      <td>0</td>\n",
       "    </tr>\n",
       "    <tr>\n",
       "      <th>cute</th>\n",
       "      <td>0</td>\n",
       "      <td>1</td>\n",
       "      <td>0</td>\n",
       "      <td>1</td>\n",
       "      <td>0</td>\n",
       "    </tr>\n",
       "    <tr>\n",
       "      <th>sex</th>\n",
       "      <td>0</td>\n",
       "      <td>0</td>\n",
       "      <td>0</td>\n",
       "      <td>0</td>\n",
       "      <td>1</td>\n",
       "    </tr>\n",
       "    <tr>\n",
       "      <th>sexy</th>\n",
       "      <td>0</td>\n",
       "      <td>0</td>\n",
       "      <td>0</td>\n",
       "      <td>0</td>\n",
       "      <td>0</td>\n",
       "    </tr>\n",
       "    <tr>\n",
       "      <th>hot</th>\n",
       "      <td>0</td>\n",
       "      <td>0</td>\n",
       "      <td>0</td>\n",
       "      <td>0</td>\n",
       "      <td>0</td>\n",
       "    </tr>\n",
       "    <tr>\n",
       "      <th>kissed</th>\n",
       "      <td>0</td>\n",
       "      <td>0</td>\n",
       "      <td>0</td>\n",
       "      <td>0</td>\n",
       "      <td>5</td>\n",
       "    </tr>\n",
       "    <tr>\n",
       "      <th>dance</th>\n",
       "      <td>1</td>\n",
       "      <td>0</td>\n",
       "      <td>0</td>\n",
       "      <td>0</td>\n",
       "      <td>1</td>\n",
       "    </tr>\n",
       "    <tr>\n",
       "      <th>band</th>\n",
       "      <td>0</td>\n",
       "      <td>0</td>\n",
       "      <td>2</td>\n",
       "      <td>0</td>\n",
       "      <td>1</td>\n",
       "    </tr>\n",
       "    <tr>\n",
       "      <th>marching</th>\n",
       "      <td>0</td>\n",
       "      <td>0</td>\n",
       "      <td>0</td>\n",
       "      <td>0</td>\n",
       "      <td>0</td>\n",
       "    </tr>\n",
       "    <tr>\n",
       "      <th>music</th>\n",
       "      <td>0</td>\n",
       "      <td>2</td>\n",
       "      <td>1</td>\n",
       "      <td>0</td>\n",
       "      <td>3</td>\n",
       "    </tr>\n",
       "    <tr>\n",
       "      <th>rock</th>\n",
       "      <td>0</td>\n",
       "      <td>2</td>\n",
       "      <td>0</td>\n",
       "      <td>1</td>\n",
       "      <td>0</td>\n",
       "    </tr>\n",
       "    <tr>\n",
       "      <th>god</th>\n",
       "      <td>0</td>\n",
       "      <td>1</td>\n",
       "      <td>0</td>\n",
       "      <td>0</td>\n",
       "      <td>1</td>\n",
       "    </tr>\n",
       "    <tr>\n",
       "      <th>church</th>\n",
       "      <td>0</td>\n",
       "      <td>0</td>\n",
       "      <td>0</td>\n",
       "      <td>0</td>\n",
       "      <td>0</td>\n",
       "    </tr>\n",
       "    <tr>\n",
       "      <th>jesus</th>\n",
       "      <td>0</td>\n",
       "      <td>0</td>\n",
       "      <td>0</td>\n",
       "      <td>0</td>\n",
       "      <td>0</td>\n",
       "    </tr>\n",
       "    <tr>\n",
       "      <th>bible</th>\n",
       "      <td>0</td>\n",
       "      <td>0</td>\n",
       "      <td>0</td>\n",
       "      <td>0</td>\n",
       "      <td>0</td>\n",
       "    </tr>\n",
       "    <tr>\n",
       "      <th>hair</th>\n",
       "      <td>0</td>\n",
       "      <td>6</td>\n",
       "      <td>0</td>\n",
       "      <td>0</td>\n",
       "      <td>1</td>\n",
       "    </tr>\n",
       "    <tr>\n",
       "      <th>dress</th>\n",
       "      <td>0</td>\n",
       "      <td>4</td>\n",
       "      <td>0</td>\n",
       "      <td>0</td>\n",
       "      <td>0</td>\n",
       "    </tr>\n",
       "    <tr>\n",
       "      <th>blonde</th>\n",
       "      <td>0</td>\n",
       "      <td>0</td>\n",
       "      <td>0</td>\n",
       "      <td>0</td>\n",
       "      <td>0</td>\n",
       "    </tr>\n",
       "    <tr>\n",
       "      <th>mall</th>\n",
       "      <td>0</td>\n",
       "      <td>1</td>\n",
       "      <td>0</td>\n",
       "      <td>0</td>\n",
       "      <td>0</td>\n",
       "    </tr>\n",
       "    <tr>\n",
       "      <th>shopping</th>\n",
       "      <td>0</td>\n",
       "      <td>0</td>\n",
       "      <td>0</td>\n",
       "      <td>0</td>\n",
       "      <td>2</td>\n",
       "    </tr>\n",
       "    <tr>\n",
       "      <th>clothes</th>\n",
       "      <td>0</td>\n",
       "      <td>0</td>\n",
       "      <td>0</td>\n",
       "      <td>0</td>\n",
       "      <td>0</td>\n",
       "    </tr>\n",
       "    <tr>\n",
       "      <th>hollister</th>\n",
       "      <td>0</td>\n",
       "      <td>0</td>\n",
       "      <td>0</td>\n",
       "      <td>0</td>\n",
       "      <td>0</td>\n",
       "    </tr>\n",
       "    <tr>\n",
       "      <th>abercrombie</th>\n",
       "      <td>0</td>\n",
       "      <td>0</td>\n",
       "      <td>0</td>\n",
       "      <td>0</td>\n",
       "      <td>0</td>\n",
       "    </tr>\n",
       "    <tr>\n",
       "      <th>die</th>\n",
       "      <td>0</td>\n",
       "      <td>0</td>\n",
       "      <td>0</td>\n",
       "      <td>0</td>\n",
       "      <td>0</td>\n",
       "    </tr>\n",
       "    <tr>\n",
       "      <th>death</th>\n",
       "      <td>0</td>\n",
       "      <td>0</td>\n",
       "      <td>1</td>\n",
       "      <td>0</td>\n",
       "      <td>0</td>\n",
       "    </tr>\n",
       "    <tr>\n",
       "      <th>drunk</th>\n",
       "      <td>0</td>\n",
       "      <td>0</td>\n",
       "      <td>0</td>\n",
       "      <td>0</td>\n",
       "      <td>1</td>\n",
       "    </tr>\n",
       "    <tr>\n",
       "      <th>drugs</th>\n",
       "      <td>0</td>\n",
       "      <td>0</td>\n",
       "      <td>0</td>\n",
       "      <td>0</td>\n",
       "      <td>1</td>\n",
       "    </tr>\n",
       "  </tbody>\n",
       "</table>\n",
       "</div>"
      ],
      "text/plain": [
       "                   0       1       2       3       4\n",
       "gradyear        2006    2006    2006    2006    2006\n",
       "gender             M       F       M       F     NaN\n",
       "age           18.982  18.801  18.335  18.875  18.995\n",
       "friends            7       0      69       0      10\n",
       "basketball         0       0       0       0       0\n",
       "football           0       1       1       0       0\n",
       "soccer             0       0       0       0       0\n",
       "softball           0       0       0       0       0\n",
       "volleyball         0       0       0       0       0\n",
       "swimming           0       0       0       0       0\n",
       "cheerleading       0       0       0       0       0\n",
       "baseball           0       0       0       0       0\n",
       "tennis             0       0       0       0       0\n",
       "sports             0       0       0       0       0\n",
       "cute               0       1       0       1       0\n",
       "sex                0       0       0       0       1\n",
       "sexy               0       0       0       0       0\n",
       "hot                0       0       0       0       0\n",
       "kissed             0       0       0       0       5\n",
       "dance              1       0       0       0       1\n",
       "band               0       0       2       0       1\n",
       "marching           0       0       0       0       0\n",
       "music              0       2       1       0       3\n",
       "rock               0       2       0       1       0\n",
       "god                0       1       0       0       1\n",
       "church             0       0       0       0       0\n",
       "jesus              0       0       0       0       0\n",
       "bible              0       0       0       0       0\n",
       "hair               0       6       0       0       1\n",
       "dress              0       4       0       0       0\n",
       "blonde             0       0       0       0       0\n",
       "mall               0       1       0       0       0\n",
       "shopping           0       0       0       0       2\n",
       "clothes            0       0       0       0       0\n",
       "hollister          0       0       0       0       0\n",
       "abercrombie        0       0       0       0       0\n",
       "die                0       0       0       0       0\n",
       "death              0       0       1       0       0\n",
       "drunk              0       0       0       0       1\n",
       "drugs              0       0       0       0       1"
      ]
     },
     "execution_count": 20,
     "metadata": {},
     "output_type": "execute_result"
    }
   ],
   "source": [
    "df_sns = pd.read_csv('snsdata.csv', sep=',')\n",
    "df_sns.head().T"
   ]
  },
  {
   "cell_type": "markdown",
   "metadata": {},
   "source": [
    "Данные устроены так: \n",
    "* Год выпуска\n",
    "* Пол\n",
    "* Возраст\n",
    "* Количество друзей\n",
    "* 36 ключевых слов, которые встречаются в профилe facebook (интересы, сообщества, встречи)"
   ]
  },
  {
   "cell_type": "markdown",
   "metadata": {},
   "source": [
    "* Удалите все признаки кроме 36 ключевых слов.\n",
    "* Нормализуйте данные - из каждого столбца вычтите его среднее значение и поделите на стандартное отклонение.\n",
    "* Используйте метод k-means чтобы выделить 9 кластеров\n",
    "* Попробуйте проинтерпретировать каждый кластер проанализировав полученные центройды (Некоторые кластеры могут быть очень большие и очень маленькие - плохо интерпретируются)   \n",
    "КОММЕНТАРИИ НЕ СТИРАТЬ!"
   ]
  },
  {
   "cell_type": "code",
   "execution_count": 18,
   "metadata": {},
   "outputs": [],
   "source": [
    "from sklearn.preprocessing import StandardScaler"
   ]
  },
  {
   "cell_type": "code",
   "execution_count": 82,
   "metadata": {},
   "outputs": [
    {
     "name": "stderr",
     "output_type": "stream",
     "text": [
      "/home/maria/anaconda3/lib/python3.6/site-packages/sklearn/utils/validation.py:475: DataConversionWarning: Data with input dtype int64 was converted to float64 by StandardScaler.\n",
      "  warnings.warn(msg, DataConversionWarning)\n"
     ]
    },
    {
     "data": {
      "text/plain": [
       "0"
      ]
     },
     "execution_count": 82,
     "metadata": {},
     "output_type": "execute_result"
    }
   ],
   "source": [
    "df = df_sns.drop(['gradyear', 'gender', 'age', 'friends'], axis=1)\n",
    "X = np.array(df)\n",
    "scaler = StandardScaler()\n",
    "X = scaler.fit_transform(X)\n",
    "df.isnull().sum().sum()"
   ]
  },
  {
   "cell_type": "code",
   "execution_count": 109,
   "metadata": {},
   "outputs": [],
   "source": [
    "claster_number = 9\n",
    "headers = df.dtypes.index\n",
    "\n",
    "def get_clasters(model, X):\n",
    "    for i in range(claster_number):\n",
    "        vector = np.zeros(X.shape[1])\n",
    "        counter = 0\n",
    "        for j in range(model.labels.shape[0]):\n",
    "            if i == model.labels[j]:\n",
    "                vector+=X[i]\n",
    "                counter+=1\n",
    "        if counter != 0:\n",
    "            print(\"claster\", i, \"(count =\", counter, \") :\")\n",
    "            sort = np.argsort(vector)[:7]\n",
    "            for k in sort:\n",
    "                print(headers[k], end = ', ')\n",
    "            print()"
   ]
  },
  {
   "cell_type": "code",
   "execution_count": 110,
   "metadata": {},
   "outputs": [
    {
     "name": "stdout",
     "output_type": "stream",
     "text": [
      "claster 0 (count = 1766 ) :\n",
      "music, shopping, cute, hair, mall, football, god, \n",
      "claster 1 (count = 13921 ) :\n",
      "shopping, dance, basketball, clothes, church, sports, die, \n",
      "claster 2 (count = 2199 ) :\n",
      "shopping, cute, hair, mall, dance, god, rock, \n",
      "claster 3 (count = 1799 ) :\n",
      "music, shopping, hair, mall, dance, football, god, \n",
      "claster 4 (count = 4625 ) :\n",
      "cute, mall, football, rock, basketball, clothes, church, \n",
      "claster 5 (count = 3795 ) :\n",
      "cute, hair, mall, dance, football, god, rock, \n",
      "claster 6 (count = 470 ) :\n",
      "music, shopping, cute, hair, dance, football, god, \n",
      "claster 7 (count = 850 ) :\n",
      "shopping, cute, hair, mall, dance, football, god, \n",
      "claster 8 (count = 575 ) :\n",
      "music, shopping, cute, hair, mall, dance, football, \n"
     ]
    }
   ],
   "source": [
    "## MyKMeans\n",
    "mykmeans = MyKmeans(k=claster_number, random_state=42)\n",
    "mykmeans.fit(X)\n",
    "get_clasters(mykmeans, X)"
   ]
  },
  {
   "cell_type": "code",
   "execution_count": 111,
   "metadata": {},
   "outputs": [
    {
     "name": "stdout",
     "output_type": "stream",
     "text": [
      "claster 0 (count = 1172 ) :\n",
      "music, shopping, cute, hair, mall, football, god, \n",
      "claster 1 (count = 11417 ) :\n",
      "shopping, dance, basketball, clothes, church, sports, die, \n",
      "claster 2 (count = 1115 ) :\n",
      "shopping, cute, hair, mall, dance, god, rock, \n",
      "claster 3 (count = 1442 ) :\n",
      "music, shopping, hair, mall, dance, football, god, \n",
      "claster 4 (count = 2336 ) :\n",
      "cute, mall, football, rock, basketball, clothes, church, \n",
      "claster 5 (count = 2320 ) :\n",
      "cute, hair, mall, dance, football, god, rock, \n",
      "claster 6 (count = 2779 ) :\n",
      "music, shopping, cute, hair, dance, football, god, \n",
      "claster 7 (count = 3718 ) :\n",
      "shopping, cute, hair, mall, dance, football, god, \n",
      "claster 8 (count = 3701 ) :\n",
      "music, shopping, cute, hair, mall, dance, football, \n"
     ]
    }
   ],
   "source": [
    "## MyKMeans++\n",
    "mykmeans = MyKmeans(k=claster_number, init = 'k_means')\n",
    "mykmeans.fit(X)\n",
    "get_clasters(mykmeans, X)"
   ]
  },
  {
   "cell_type": "code",
   "execution_count": 112,
   "metadata": {},
   "outputs": [
    {
     "name": "stdout",
     "output_type": "stream",
     "text": [
      "claster 0 (count = 1172 ) :\n",
      "music, shopping, cute, hair, mall, football, god, \n",
      "claster 1 (count = 11417 ) :\n",
      "shopping, dance, basketball, clothes, church, sports, die, \n",
      "claster 2 (count = 1115 ) :\n",
      "shopping, cute, hair, mall, dance, god, rock, \n",
      "claster 3 (count = 1442 ) :\n",
      "music, shopping, hair, mall, dance, football, god, \n",
      "claster 4 (count = 2336 ) :\n",
      "cute, mall, football, rock, basketball, clothes, church, \n",
      "claster 5 (count = 2320 ) :\n",
      "cute, hair, mall, dance, football, god, rock, \n",
      "claster 6 (count = 2779 ) :\n",
      "music, shopping, cute, hair, dance, football, god, \n",
      "claster 7 (count = 3718 ) :\n",
      "shopping, cute, hair, mall, dance, football, god, \n",
      "claster 8 (count = 3701 ) :\n",
      "music, shopping, cute, hair, mall, dance, football, \n"
     ]
    }
   ],
   "source": [
    "## MyKMeans с MiniBatchMyKMeans\n",
    "mykmeans = MiniBatchKMeans(k=claster_number, random_state=42)\n",
    "mykmeans.fit(X)\n",
    "get_clasters(mykmeans, X)"
   ]
  },
  {
   "cell_type": "code",
   "execution_count": 113,
   "metadata": {},
   "outputs": [
    {
     "name": "stdout",
     "output_type": "stream",
     "text": [
      "claster 0 (count = 841 ) :\n",
      "music, shopping, cute, hair, mall, football, god, \n",
      "claster 1 (count = 19664 ) :\n",
      "shopping, dance, basketball, clothes, church, sports, die, \n",
      "claster 2 (count = 581 ) :\n",
      "shopping, cute, hair, mall, dance, god, rock, \n",
      "claster 3 (count = 922 ) :\n",
      "music, shopping, hair, mall, dance, football, god, \n",
      "claster 4 (count = 1685 ) :\n",
      "cute, mall, football, rock, basketball, clothes, church, \n",
      "claster 5 (count = 1927 ) :\n",
      "cute, hair, mall, dance, football, god, rock, \n",
      "claster 6 (count = 1119 ) :\n",
      "music, shopping, cute, hair, dance, football, god, \n",
      "claster 7 (count = 878 ) :\n",
      "shopping, cute, hair, mall, dance, football, god, \n",
      "claster 8 (count = 2383 ) :\n",
      "music, shopping, cute, hair, mall, dance, football, \n"
     ]
    }
   ],
   "source": [
    "## MyKMeans++ с MiniBatchMyKMeans\n",
    "mykmeans = MiniBatchKMeans(k=claster_number, init = 'k_means', batch_size = 10)\n",
    "mykmeans.fit(X)\n",
    "get_clasters(mykmeans, X)"
   ]
  },
  {
   "cell_type": "markdown",
   "metadata": {},
   "source": [
    "## Вывод\n",
    "MiniBatchKMeans прекрасен. Он работет быстрее стандартной реализации благодаря тому. что проходится не по всей выборке, и сравним по точности с дефолтными результатами из-за удачной инициализации центройдов "
   ]
  }
 ],
 "metadata": {
  "anaconda-cloud": {},
  "kernelspec": {
   "display_name": "Python 3",
   "language": "python",
   "name": "python3"
  },
  "language_info": {
   "codemirror_mode": {
    "name": "ipython",
    "version": 3
   },
   "file_extension": ".py",
   "mimetype": "text/x-python",
   "name": "python",
   "nbconvert_exporter": "python",
   "pygments_lexer": "ipython3",
   "version": "3.6.5"
  },
  "nav_menu": {},
  "toc": {
   "navigate_menu": true,
   "number_sections": false,
   "sideBar": true,
   "threshold": 6,
   "toc_cell": false,
   "toc_section_display": "block",
   "toc_window_display": true
  }
 },
 "nbformat": 4,
 "nbformat_minor": 2
}
