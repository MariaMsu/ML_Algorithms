{
 "cells": [
  {
   "cell_type": "markdown",
   "metadata": {},
   "source": [
    "**Общая информация**\n",
    "\n",
    "**Срок сдачи:** 18 октября 2017, 06:00 <br\\>\n",
    "**Штраф за опоздание:** -2 балла после 06:00 18 октября, -4 балла после 06:00 25 октября, -6 баллов после 06:00 1 ноября\n",
    "\n",
    "При отправлении ДЗ указывайте фамилию в названии файла\n",
    "Присылать ДЗ необходимо в виде ссылки на свой github репозиторий в slack @alkhamush\n",
    "\n",
    "Необходимо в slack создать таск в приватный чат:\n",
    "/todo Фамилия Имя ссылка на гитхаб @alkhamush\n",
    "Пример:\n",
    "/todo Ксения Стройкова https://github.com/stroykova/spheremailru/stroykova_hw1.ipynb @alkhamush\n",
    "Дополнительно нужно просто скинуть ссылку в slack в личный чат\n",
    "\n",
    "Используйте данный Ipython Notebook при оформлении домашнего задания."
   ]
  },
  {
   "cell_type": "markdown",
   "metadata": {},
   "source": [
    "###### Задание 1 (2 баллов)\n",
    "Реализовать KNN в классе MyKNeighborsClassifier (обязательное условие: точность не ниже sklearn реализации)\n",
    "Разберитесь самостоятельно, какая мера расстояния используется в KNeighborsClassifier дефолтно и реализуйте свой алгоритм именно с этой мерой. Самостоятельно разберитесь, как считается score из KNeighborsClassifier и реализуйте аналог в своём классе. Score не должен уступать значению KNN из sklearn\n",
    "\n",
    "###### Задание 2 (2 балла)\n",
    "Добиться скорости работы на fit,  predict и predict_proba сравнимой со sklearn для iris и mnist\n",
    "Для этого используем numpy\n",
    "\n",
    "###### Задание 3 (2 балла)\n",
    "Для iris найдите такой параметр n_neighbors, при котором выдаётся наилучший score. Нарисуйте график зависимости score от n_neighbors\n",
    "\n",
    "###### Задание 4 (3 балла)\n",
    "Добавить algorithm='kd_tree' в реализацию KNN (использовать KDTree из sklearn.neighbors). Значение n_neighbors нужно взять из задания 3. Добиться скорости работы на fit,  predict и predict_proba сравнимой со sklearn для iris и mnist\n",
    "Для этого используем numpy. Score не должен уступать значению KNN из sklearn\n",
    "\n",
    "###### Задание 5 (1 балла)\n",
    "Описать для чего нужны следующие библиотеки/классы/функции (список будет ниже)\n",
    "\n",
    "**Штрафные баллы:**\n",
    "\n",
    "1. Невыполнение PEP8 -1 балл\n",
    "2. Отсутствие фамилии в имени скрипта (скрипт должен называться по аналогии со stroykova_hw1.ipynb) -1 балл\n",
    "3. Все строчки должны быть выполнены. Нужно, чтобы output команды можно было увидеть уже в git'е. В противном случае -1 балл\n",
    "4. При оформлении ДЗ нужно пользоваться данным файлом в качестве шаблона. Не нужно удалять и видоизменять структуру кода и текст. В противном случае -1 балл\n"
   ]
  },
  {
   "cell_type": "code",
   "execution_count": 54,
   "metadata": {
    "scrolled": false
   },
   "outputs": [
    {
     "name": "stdout",
     "output_type": "stream",
     "text": [
      "The pycodestyle_magic extension is already loaded. To reload it, use:\n",
      "  %reload_ext pycodestyle_magic\n"
     ]
    }
   ],
   "source": [
    "import numpy as np\n",
    "import pandas as pd\n",
    "import matplotlib.pyplot as plt\n",
    "import seaborn as sns\n",
    "\n",
    "from sklearn import neighbors\n",
    "from sklearn import datasets\n",
    "from sklearn.base import ClassifierMixin\n",
    "from sklearn.datasets import fetch_mldata\n",
    "from sklearn.neighbors.base import NeighborsBase, KNeighborsMixin, SupervisedIntegerMixin \n",
    "from sklearn.model_selection import train_test_split\n",
    "from sklearn.neighbors import KNeighborsClassifier\n",
    "from sklearn.preprocessing import normalize\n",
    "%load_ext pycodestyle_magic"
   ]
  },
  {
   "cell_type": "code",
   "execution_count": 217,
   "metadata": {},
   "outputs": [],
   "source": [
    "# %%pycodestyle\n",
    "\n",
    "\n",
    "class MyKNeighborsClassifier(NeighborsBase,\n",
    "                             KNeighborsMixin,\n",
    "                             SupervisedIntegerMixin,\n",
    "                             ClassifierMixin):\n",
    "\n",
    "    def __init__(self, n_neighbors, algorithm='brute'):\n",
    "        self.n_neighbor = n_neighbors\n",
    "        self.algorithm = algorithm\n",
    "\n",
    "    def fit(self, X, y):\n",
    "        self.train_y = np.array(y).astype(int)\n",
    "        self.number_of_classes = len(np.unique(self.train_y))\n",
    "        if self.algorithm == 'kd_tree':\n",
    "            self.tree = neighbors.KDTree(np.array(X))\n",
    "        elif self.algorithm == 'brute':\n",
    "            self.train_x = np.array(X)\n",
    "\n",
    "    #     def _get_neastes_neighbor_list(self, X):\n",
    "    #         test_labels = np.array([])\n",
    "    #         for point in X:\n",
    "    #             test_dist = [[np.linalg.norm(point - self.train_x[i]),\n",
    "    #                          self.train_y[i]] for i in\n",
    "    #                          range(self.train_x.shape[0])]\n",
    "    #             stat = [0 for i in range(self.number_of_classes)]\n",
    "    #             for d in sorted(test_dist)[0:self.n_neighbor]:\n",
    "    #                 stat[d[1]] += 1\n",
    "    #             test_labels = np.append(test_labels, stat)\n",
    "    #         test_labels.shape = (X.shape[0], self.number_of_classes)\n",
    "    #         return  test_labels\n",
    "\n",
    "    def _get_neastes_neighbor_list(self, X):\n",
    "        matrix = np.zeros((X.shape[0], self.number_of_classes),\n",
    "                          dtype='float')\n",
    "        i = 0\n",
    "        for point in X:\n",
    "            test_dist = np.copy(self.train_x)\n",
    "            for k in test_dist:\n",
    "    #           k = np.linalg.norm(k-point)\n",
    "                k -= point\n",
    "            test_dist = [np.linalg.norm(l) for l in test_dist]\n",
    "            idx = np.argpartition(test_dist,\n",
    "                                  self.n_neighbor)[:self.n_neighbor]\n",
    "            for j in idx:\n",
    "                colum = self.train_y[j]\n",
    "                matrix[i][colum] += 1\n",
    "            i += 1\n",
    "        return matrix\n",
    "\n",
    "    def predict_brute(self, X):\n",
    "        class_list = [np.argmax(i) for i in\n",
    "                      self._get_neastes_neighbor_list(X)]\n",
    "        return class_list\n",
    "\n",
    "    def predict_proba_brute(self, X):\n",
    "        test_labels = np.divide(self._get_neastes_neighbor_list(X),\n",
    "                                self.n_neighbor)\n",
    "        return test_labels\n",
    "\n",
    "    def predict_kd_tree(self, X):\n",
    "        test_labels = np.array([])\n",
    "        (dist, ind) = self.tree.query(X, k=self.n_neighbor)\n",
    "        for y in self.train_y[ind]:\n",
    "            test_labels = np.append(test_labels,\n",
    "                                    np.bincount(y).argmax())\n",
    "        return test_labels.astype(int)\n",
    "\n",
    "    def predict_proba_kd_tree(self, X):\n",
    "        test_labels = np.array([])\n",
    "        (dist, ind) = self.tree.query(X, k=self.n_neighbor)\n",
    "        for y in self.train_y[ind]:\n",
    "            stat = np.array([])\n",
    "            for i in range(self.number_of_classes):\n",
    "                stat = np.append(stat, np.count_nonzero(y == i))\n",
    "            test_labels = np.append(test_labels, stat)\n",
    "        test_labels.shape = (X.shape[0], self.number_of_classes)\n",
    "        test_labels = np.divide(test_labels, self.n_neighbor)\n",
    "        return test_labels\n",
    "\n",
    "    def predict(self, X):\n",
    "        if self.algorithm == 'brute':\n",
    "            return self.predict_brute(X)\n",
    "        elif self.algorithm == 'kd_tree':\n",
    "            return self.predict_kd_tree(X)\n",
    "\n",
    "    def predict_proba(self, X):\n",
    "        if self.algorithm == 'brute':\n",
    "            return self.predict_proba_brute(X)\n",
    "        elif self.algorithm == 'kd_tree':\n",
    "            return self.predict_proba_kd_tree(X)\n",
    "\n",
    "    def score(self, X, y):\n",
    "        vector = np.subtract(self.predict(X), y)\n",
    "        summa = np.count_nonzero(vector)\n",
    "        return 1 - summa / y.shape[0]\n"
   ]
  },
  {
   "cell_type": "markdown",
   "metadata": {},
   "source": [
    "**IRIS**"
   ]
  },
  {
   "cell_type": "code",
   "execution_count": 177,
   "metadata": {
    "scrolled": true
   },
   "outputs": [],
   "source": [
    "iris = datasets.load_iris()"
   ]
  },
  {
   "cell_type": "code",
   "execution_count": 178,
   "metadata": {},
   "outputs": [],
   "source": [
    "X_train, X_test, y_train, y_test = train_test_split(iris.data, iris.target, test_size=0.1, stratify=iris.target)"
   ]
  },
  {
   "cell_type": "code",
   "execution_count": 179,
   "metadata": {},
   "outputs": [],
   "source": [
    "clf = KNeighborsClassifier(n_neighbors=2)\n",
    "my_clf = MyKNeighborsClassifier(n_neighbors=2)"
   ]
  },
  {
   "cell_type": "code",
   "execution_count": 180,
   "metadata": {},
   "outputs": [
    {
     "name": "stdout",
     "output_type": "stream",
     "text": [
      "CPU times: user 0 ns, sys: 4.38 ms, total: 4.38 ms\n",
      "Wall time: 5.46 ms\n"
     ]
    },
    {
     "data": {
      "text/plain": [
       "KNeighborsClassifier(algorithm='auto', leaf_size=30, metric='minkowski',\n",
       "           metric_params=None, n_jobs=1, n_neighbors=2, p=2,\n",
       "           weights='uniform')"
      ]
     },
     "execution_count": 180,
     "metadata": {},
     "output_type": "execute_result"
    }
   ],
   "source": [
    "%time clf.fit(X_train, y_train)"
   ]
  },
  {
   "cell_type": "code",
   "execution_count": 181,
   "metadata": {},
   "outputs": [
    {
     "name": "stdout",
     "output_type": "stream",
     "text": [
      "CPU times: user 1.74 ms, sys: 37 µs, total: 1.77 ms\n",
      "Wall time: 1.2 ms\n"
     ]
    }
   ],
   "source": [
    "%time my_clf.fit(X_train, y_train)"
   ]
  },
  {
   "cell_type": "code",
   "execution_count": 182,
   "metadata": {},
   "outputs": [
    {
     "name": "stdout",
     "output_type": "stream",
     "text": [
      "CPU times: user 968 µs, sys: 0 ns, total: 968 µs\n",
      "Wall time: 844 µs\n"
     ]
    },
    {
     "data": {
      "text/plain": [
       "array([2, 2, 1, 1, 0, 1, 0, 2, 2, 1, 0, 2, 1, 0, 0])"
      ]
     },
     "execution_count": 182,
     "metadata": {},
     "output_type": "execute_result"
    }
   ],
   "source": [
    "%time clf.predict(X_test)"
   ]
  },
  {
   "cell_type": "code",
   "execution_count": 183,
   "metadata": {},
   "outputs": [
    {
     "name": "stdout",
     "output_type": "stream",
     "text": [
      "CPU times: user 36.2 ms, sys: 7.92 ms, total: 44.1 ms\n",
      "Wall time: 38.8 ms\n"
     ]
    },
    {
     "data": {
      "text/plain": [
       "[2, 2, 1, 1, 0, 1, 0, 2, 2, 1, 0, 2, 1, 0, 0]"
      ]
     },
     "execution_count": 183,
     "metadata": {},
     "output_type": "execute_result"
    }
   ],
   "source": [
    "%time my_clf.predict(X_test)"
   ]
  },
  {
   "cell_type": "code",
   "execution_count": 184,
   "metadata": {},
   "outputs": [
    {
     "name": "stdout",
     "output_type": "stream",
     "text": [
      "CPU times: user 2.73 ms, sys: 0 ns, total: 2.73 ms\n",
      "Wall time: 2.09 ms\n"
     ]
    },
    {
     "data": {
      "text/plain": [
       "array([[0., 0., 1.],\n",
       "       [0., 0., 1.],\n",
       "       [0., 1., 0.],\n",
       "       [0., 1., 0.],\n",
       "       [1., 0., 0.],\n",
       "       [0., 1., 0.],\n",
       "       [1., 0., 0.],\n",
       "       [0., 0., 1.],\n",
       "       [0., 0., 1.],\n",
       "       [0., 1., 0.],\n",
       "       [1., 0., 0.],\n",
       "       [0., 0., 1.],\n",
       "       [0., 1., 0.],\n",
       "       [1., 0., 0.],\n",
       "       [1., 0., 0.]])"
      ]
     },
     "execution_count": 184,
     "metadata": {},
     "output_type": "execute_result"
    }
   ],
   "source": [
    "%time clf.predict_proba(X_test)"
   ]
  },
  {
   "cell_type": "code",
   "execution_count": 185,
   "metadata": {},
   "outputs": [
    {
     "name": "stdout",
     "output_type": "stream",
     "text": [
      "CPU times: user 30.2 ms, sys: 4.13 ms, total: 34.3 ms\n",
      "Wall time: 31.8 ms\n"
     ]
    },
    {
     "data": {
      "text/plain": [
       "array([[0., 0., 1.],\n",
       "       [0., 0., 1.],\n",
       "       [0., 1., 0.],\n",
       "       [0., 1., 0.],\n",
       "       [1., 0., 0.],\n",
       "       [0., 1., 0.],\n",
       "       [1., 0., 0.],\n",
       "       [0., 0., 1.],\n",
       "       [0., 0., 1.],\n",
       "       [0., 1., 0.],\n",
       "       [1., 0., 0.],\n",
       "       [0., 0., 1.],\n",
       "       [0., 1., 0.],\n",
       "       [1., 0., 0.],\n",
       "       [1., 0., 0.]])"
      ]
     },
     "execution_count": 185,
     "metadata": {},
     "output_type": "execute_result"
    }
   ],
   "source": [
    "%time my_clf.predict_proba(X_test)"
   ]
  },
  {
   "cell_type": "code",
   "execution_count": 186,
   "metadata": {},
   "outputs": [
    {
     "data": {
      "text/plain": [
       "1.0"
      ]
     },
     "execution_count": 186,
     "metadata": {},
     "output_type": "execute_result"
    }
   ],
   "source": [
    "clf.score(X_test, y_test)"
   ]
  },
  {
   "cell_type": "code",
   "execution_count": 187,
   "metadata": {},
   "outputs": [
    {
     "data": {
      "text/plain": [
       "1.0"
      ]
     },
     "execution_count": 187,
     "metadata": {},
     "output_type": "execute_result"
    }
   ],
   "source": [
    "my_clf.score(X_test, y_test)"
   ]
  },
  {
   "cell_type": "markdown",
   "metadata": {},
   "source": [
    "Задание 3"
   ]
  },
  {
   "cell_type": "code",
   "execution_count": 215,
   "metadata": {},
   "outputs": [
    {
     "name": "stdout",
     "output_type": "stream",
     "text": [
      "best n_neighbors = 1\n"
     ]
    },
    {
     "data": {
      "text/plain": [
       "<matplotlib.axes._subplots.AxesSubplot at 0x7f4b34b8fe10>"
      ]
     },
     "execution_count": 215,
     "metadata": {},
     "output_type": "execute_result"
    },
    {
     "data": {
      "image/png": "[encoded data removed]",
      "text/plain": [
       "<Figure size 432x288 with 1 Axes>"
      ]
     },
     "metadata": {},
     "output_type": "display_data"
    }
   ],
   "source": [
    "sns.set_style(\"darkgrid\")\n",
    "sns.set_palette(\"Set1\", 10, 0.8)\n",
    "\n",
    "score = []\n",
    "n_neighbors = []\n",
    "best_n_neighbors = 0\n",
    "best_score = 0\n",
    "loop = 10\n",
    "neighbors_number = 15\n",
    "for i in range(1, neighbors_number):\n",
    "    n_neighbors.append(i)\n",
    "    clf = KNeighborsClassifier(n_neighbors=i)\n",
    "    score_sum = 0\n",
    "    for j in range(loop):\n",
    "        X_train, X_test, y_train, y_test = train_test_split(iris.data,\n",
    "                                                            iris.target,\n",
    "                                                            test_size=0.1,\n",
    "                                                            stratify=iris.target)\n",
    "        clf.fit(X_train, y_train)\n",
    "        score_sum += clf.score(X_test, y_test)\n",
    "    sc = score_sum/loop  \n",
    "    score.append(sc)\n",
    "    if sc > best_score:\n",
    "        best_score = sc\n",
    "        best_best_n_neighbors = i\n",
    "\n",
    "d = {'score': score, 'n_neighbors': n_neighbors}\n",
    "df = pd.DataFrame(data=d)\n",
    "\n",
    "print(\"best n_neighbors =\", best_best_n_neighbors)\n",
    "\n",
    "sns.lineplot(x=\"n_neighbors\", y=\"score\", data = df)"
   ]
  },
  {
   "cell_type": "markdown",
   "metadata": {},
   "source": [
    "**MNIST**"
   ]
  },
  {
   "cell_type": "code",
   "execution_count": 198,
   "metadata": {},
   "outputs": [],
   "source": [
    "mnist = fetch_mldata('MNIST original')"
   ]
  },
  {
   "cell_type": "code",
   "execution_count": 199,
   "metadata": {},
   "outputs": [],
   "source": [
    "X_train, X_test, y_train, y_test = train_test_split(mnist.data, mnist.target, test_size=0.01, stratify=mnist.target)"
   ]
  },
  {
   "cell_type": "code",
   "execution_count": 200,
   "metadata": {},
   "outputs": [],
   "source": [
    "clf = KNeighborsClassifier(n_neighbors=2)\n",
    "my_clf = MyKNeighborsClassifier(n_neighbors=2)"
   ]
  },
  {
   "cell_type": "code",
   "execution_count": 201,
   "metadata": {},
   "outputs": [
    {
     "name": "stdout",
     "output_type": "stream",
     "text": [
      "CPU times: user 42.1 s, sys: 185 ms, total: 42.3 s\n",
      "Wall time: 42.2 s\n"
     ]
    },
    {
     "data": {
      "text/plain": [
       "KNeighborsClassifier(algorithm='auto', leaf_size=30, metric='minkowski',\n",
       "           metric_params=None, n_jobs=1, n_neighbors=2, p=2,\n",
       "           weights='uniform')"
      ]
     },
     "execution_count": 201,
     "metadata": {},
     "output_type": "execute_result"
    }
   ],
   "source": [
    "%time clf.fit(X_train, y_train)"
   ]
  },
  {
   "cell_type": "code",
   "execution_count": 202,
   "metadata": {},
   "outputs": [
    {
     "name": "stdout",
     "output_type": "stream",
     "text": [
      "CPU times: user 9.31 ms, sys: 23.9 ms, total: 33.3 ms\n",
      "Wall time: 31.9 ms\n"
     ]
    }
   ],
   "source": [
    "%time my_clf.fit(X_train, y_train)"
   ]
  },
  {
   "cell_type": "code",
   "execution_count": 203,
   "metadata": {},
   "outputs": [
    {
     "name": "stdout",
     "output_type": "stream",
     "text": [
      "CPU times: user 1min 18s, sys: 35.8 ms, total: 1min 18s\n",
      "Wall time: 1min 18s\n"
     ]
    },
    {
     "data": {
      "text/plain": [
       "array([7., 0., 0., 2., 0., 1., 2., 2., 3., 2., 6., 2., 6., 9., 2., 1., 6.,\n",
       "       4., 8., 1., 6., 6., 6., 3., 4., 4., 2., 6., 1., 3., 8., 8., 5., 5.,\n",
       "       3., 3., 5., 3., 3., 4., 8., 0., 9., 9., 6., 8., 9., 2., 0., 0., 6.,\n",
       "       4., 7., 9., 7., 9., 8., 0., 0., 8., 7., 3., 7., 1., 2., 6., 6., 3.,\n",
       "       1., 3., 6., 1., 5., 4., 1., 8., 8., 2., 7., 8., 0., 1., 7., 1., 0.,\n",
       "       4., 9., 4., 6., 4., 6., 1., 2., 0., 9., 1., 0., 9., 7., 9., 0., 7.,\n",
       "       1., 7., 2., 7., 2., 0., 4., 6., 7., 3., 7., 1., 4., 6., 0., 2., 8.,\n",
       "       7., 8., 5., 5., 3., 7., 9., 0., 2., 3., 8., 7., 6., 4., 0., 6., 3.,\n",
       "       1., 3., 5., 1., 6., 8., 9., 7., 2., 3., 5., 8., 6., 1., 1., 3., 1.,\n",
       "       4., 0., 6., 2., 1., 6., 4., 8., 2., 1., 4., 2., 2., 7., 9., 4., 8.,\n",
       "       0., 5., 1., 4., 8., 8., 6., 7., 0., 4., 5., 9., 1., 5., 7., 8., 9.,\n",
       "       2., 5., 3., 0., 2., 6., 4., 4., 6., 7., 1., 0., 0., 6., 0., 8., 8.,\n",
       "       7., 8., 2., 8., 3., 8., 8., 6., 9., 1., 5., 1., 1., 7., 2., 9., 6.,\n",
       "       3., 1., 7., 7., 7., 6., 4., 2., 1., 2., 9., 0., 9., 3., 6., 7., 9.,\n",
       "       5., 5., 4., 9., 3., 8., 1., 0., 7., 7., 3., 0., 2., 8., 0., 7., 0.,\n",
       "       2., 9., 7., 8., 1., 4., 7., 5., 9., 7., 7., 6., 6., 3., 3., 4., 1.,\n",
       "       3., 3., 0., 1., 2., 2., 7., 5., 5., 4., 1., 1., 3., 4., 5., 5., 8.,\n",
       "       1., 2., 9., 3., 3., 7., 9., 5., 1., 9., 0., 7., 7., 2., 3., 8., 1.,\n",
       "       9., 3., 0., 3., 3., 3., 8., 9., 6., 3., 3., 2., 1., 8., 3., 4., 1.,\n",
       "       3., 9., 9., 5., 0., 9., 7., 4., 6., 5., 4., 5., 7., 7., 3., 8., 7.,\n",
       "       2., 3., 2., 5., 8., 1., 0., 1., 7., 1., 7., 3., 5., 2., 1., 7., 9.,\n",
       "       1., 7., 9., 5., 9., 9., 2., 8., 1., 7., 3., 2., 6., 7., 1., 8., 5.,\n",
       "       1., 2., 5., 9., 3., 0., 4., 7., 1., 6., 0., 5., 4., 7., 8., 1., 2.,\n",
       "       7., 8., 3., 3., 1., 0., 2., 4., 5., 3., 6., 1., 0., 4., 3., 8., 5.,\n",
       "       4., 1., 2., 6., 2., 4., 1., 5., 2., 0., 7., 0., 6., 7., 3., 0., 4.,\n",
       "       8., 1., 6., 7., 4., 0., 4., 4., 5., 0., 2., 6., 5., 3., 8., 9., 3.,\n",
       "       8., 1., 8., 7., 0., 6., 6., 4., 2., 4., 2., 2., 5., 3., 1., 7., 4.,\n",
       "       3., 4., 6., 9., 5., 2., 0., 5., 3., 8., 8., 5., 6., 2., 8., 8., 0.,\n",
       "       5., 4., 9., 6., 0., 8., 2., 5., 4., 6., 3., 4., 7., 6., 7., 8., 0.,\n",
       "       0., 5., 3., 9., 6., 6., 1., 3., 1., 2., 9., 6., 1., 1., 0., 4., 8.,\n",
       "       0., 1., 9., 9., 2., 5., 0., 8., 3., 4., 7., 6., 0., 7., 6., 1., 8.,\n",
       "       5., 4., 0., 6., 8., 4., 2., 1., 4., 8., 4., 2., 7., 9., 1., 4., 3.,\n",
       "       9., 5., 7., 0., 9., 2., 0., 0., 7., 7., 1., 4., 0., 9., 2., 3., 1.,\n",
       "       7., 1., 9., 5., 9., 6., 4., 0., 6., 9., 8., 7., 8., 9., 1., 3., 6.,\n",
       "       8., 6., 3., 4., 3., 3., 9., 9., 9., 4., 0., 1., 9., 5., 8., 2., 4.,\n",
       "       8., 4., 4., 7., 0., 7., 9., 4., 6., 6., 0., 1., 4., 3., 1., 0., 1.,\n",
       "       3., 5., 2., 5., 0., 9., 5., 4., 2., 1., 6., 0., 5., 6., 8., 2., 3.,\n",
       "       2., 3., 5., 6., 1., 2., 2., 4., 4., 6., 8., 3., 9., 3., 3., 5., 2.,\n",
       "       3., 1., 6., 4., 3., 1., 1., 7., 5., 1., 7., 9., 4., 9., 7., 4., 6.,\n",
       "       4., 0., 7., 1., 9., 1., 0., 5., 2., 4., 9., 2., 9., 4., 0., 8., 0.,\n",
       "       8., 2., 2., 5., 1., 1., 9., 1., 2., 7., 5., 9., 5., 1., 9., 5., 5.,\n",
       "       7., 5., 6.])"
      ]
     },
     "execution_count": 203,
     "metadata": {},
     "output_type": "execute_result"
    }
   ],
   "source": [
    "%time clf.predict(X_test)"
   ]
  },
  {
   "cell_type": "code",
   "execution_count": 204,
   "metadata": {},
   "outputs": [
    {
     "name": "stdout",
     "output_type": "stream",
     "text": [
      "CPU times: user 7min 44s, sys: 243 ms, total: 7min 44s\n",
      "Wall time: 7min 44s\n"
     ]
    },
    {
     "data": {
      "text/plain": [
       "[7,\n",
       " 0,\n",
       " 0,\n",
       " 2,\n",
       " 0,\n",
       " 1,\n",
       " 2,\n",
       " 2,\n",
       " 3,\n",
       " 2,\n",
       " 6,\n",
       " 2,\n",
       " 6,\n",
       " 9,\n",
       " 2,\n",
       " 1,\n",
       " 6,\n",
       " 4,\n",
       " 8,\n",
       " 1,\n",
       " 6,\n",
       " 6,\n",
       " 6,\n",
       " 3,\n",
       " 8,\n",
       " 1,\n",
       " 2,\n",
       " 6,\n",
       " 1,\n",
       " 3,\n",
       " 1,\n",
       " 1,\n",
       " 0,\n",
       " 5,\n",
       " 3,\n",
       " 3,\n",
       " 6,\n",
       " 3,\n",
       " 2,\n",
       " 4,\n",
       " 8,\n",
       " 0,\n",
       " 9,\n",
       " 9,\n",
       " 6,\n",
       " 1,\n",
       " 8,\n",
       " 0,\n",
       " 0,\n",
       " 0,\n",
       " 6,\n",
       " 4,\n",
       " 7,\n",
       " 9,\n",
       " 7,\n",
       " 0,\n",
       " 1,\n",
       " 0,\n",
       " 0,\n",
       " 8,\n",
       " 7,\n",
       " 0,\n",
       " 1,\n",
       " 1,\n",
       " 2,\n",
       " 6,\n",
       " 6,\n",
       " 3,\n",
       " 1,\n",
       " 3,\n",
       " 6,\n",
       " 1,\n",
       " 5,\n",
       " 8,\n",
       " 1,\n",
       " 8,\n",
       " 0,\n",
       " 0,\n",
       " 7,\n",
       " 0,\n",
       " 0,\n",
       " 1,\n",
       " 7,\n",
       " 1,\n",
       " 0,\n",
       " 4,\n",
       " 9,\n",
       " 4,\n",
       " 6,\n",
       " 4,\n",
       " 6,\n",
       " 1,\n",
       " 2,\n",
       " 0,\n",
       " 4,\n",
       " 1,\n",
       " 0,\n",
       " 8,\n",
       " 7,\n",
       " 9,\n",
       " 0,\n",
       " 7,\n",
       " 1,\n",
       " 7,\n",
       " 2,\n",
       " 7,\n",
       " 2,\n",
       " 0,\n",
       " 4,\n",
       " 6,\n",
       " 7,\n",
       " 3,\n",
       " 7,\n",
       " 1,\n",
       " 4,\n",
       " 6,\n",
       " 0,\n",
       " 2,\n",
       " 8,\n",
       " 1,\n",
       " 1,\n",
       " 5,\n",
       " 5,\n",
       " 4,\n",
       " 7,\n",
       " 1,\n",
       " 0,\n",
       " 2,\n",
       " 3,\n",
       " 8,\n",
       " 8,\n",
       " 6,\n",
       " 7,\n",
       " 0,\n",
       " 6,\n",
       " 3,\n",
       " 1,\n",
       " 3,\n",
       " 3,\n",
       " 1,\n",
       " 6,\n",
       " 1,\n",
       " 9,\n",
       " 7,\n",
       " 2,\n",
       " 8,\n",
       " 3,\n",
       " 8,\n",
       " 6,\n",
       " 1,\n",
       " 1,\n",
       " 0,\n",
       " 1,\n",
       " 4,\n",
       " 0,\n",
       " 3,\n",
       " 2,\n",
       " 1,\n",
       " 6,\n",
       " 4,\n",
       " 1,\n",
       " 2,\n",
       " 1,\n",
       " 4,\n",
       " 2,\n",
       " 8,\n",
       " 7,\n",
       " 9,\n",
       " 4,\n",
       " 0,\n",
       " 0,\n",
       " 0,\n",
       " 1,\n",
       " 3,\n",
       " 8,\n",
       " 8,\n",
       " 6,\n",
       " 7,\n",
       " 0,\n",
       " 9,\n",
       " 5,\n",
       " 7,\n",
       " 1,\n",
       " 0,\n",
       " 7,\n",
       " 1,\n",
       " 9,\n",
       " 2,\n",
       " 5,\n",
       " 3,\n",
       " 0,\n",
       " 2,\n",
       " 6,\n",
       " 4,\n",
       " 4,\n",
       " 6,\n",
       " 7,\n",
       " 1,\n",
       " 0,\n",
       " 0,\n",
       " 6,\n",
       " 0,\n",
       " 8,\n",
       " 1,\n",
       " 1,\n",
       " 8,\n",
       " 2,\n",
       " 0,\n",
       " 3,\n",
       " 8,\n",
       " 5,\n",
       " 6,\n",
       " 1,\n",
       " 1,\n",
       " 6,\n",
       " 1,\n",
       " 1,\n",
       " 7,\n",
       " 2,\n",
       " 9,\n",
       " 6,\n",
       " 6,\n",
       " 1,\n",
       " 7,\n",
       " 7,\n",
       " 7,\n",
       " 6,\n",
       " 0,\n",
       " 2,\n",
       " 1,\n",
       " 2,\n",
       " 9,\n",
       " 0,\n",
       " 9,\n",
       " 3,\n",
       " 6,\n",
       " 7,\n",
       " 9,\n",
       " 0,\n",
       " 3,\n",
       " 4,\n",
       " 1,\n",
       " 3,\n",
       " 8,\n",
       " 1,\n",
       " 0,\n",
       " 7,\n",
       " 7,\n",
       " 8,\n",
       " 0,\n",
       " 2,\n",
       " 1,\n",
       " 0,\n",
       " 7,\n",
       " 0,\n",
       " 2,\n",
       " 9,\n",
       " 7,\n",
       " 8,\n",
       " 1,\n",
       " 4,\n",
       " 4,\n",
       " 8,\n",
       " 7,\n",
       " 7,\n",
       " 7,\n",
       " 6,\n",
       " 6,\n",
       " 3,\n",
       " 3,\n",
       " 4,\n",
       " 0,\n",
       " 3,\n",
       " 1,\n",
       " 0,\n",
       " 1,\n",
       " 2,\n",
       " 2,\n",
       " 7,\n",
       " 1,\n",
       " 5,\n",
       " 4,\n",
       " 1,\n",
       " 1,\n",
       " 3,\n",
       " 4,\n",
       " 8,\n",
       " 0,\n",
       " 1,\n",
       " 1,\n",
       " 1,\n",
       " 9,\n",
       " 8,\n",
       " 8,\n",
       " 7,\n",
       " 7,\n",
       " 0,\n",
       " 1,\n",
       " 9,\n",
       " 0,\n",
       " 7,\n",
       " 7,\n",
       " 2,\n",
       " 3,\n",
       " 0,\n",
       " 1,\n",
       " 9,\n",
       " 3,\n",
       " 0,\n",
       " 2,\n",
       " 3,\n",
       " 1,\n",
       " 1,\n",
       " 1,\n",
       " 6,\n",
       " 6,\n",
       " 3,\n",
       " 8,\n",
       " 1,\n",
       " 8,\n",
       " 3,\n",
       " 3,\n",
       " 1,\n",
       " 0,\n",
       " 9,\n",
       " 1,\n",
       " 1,\n",
       " 0,\n",
       " 9,\n",
       " 7,\n",
       " 9,\n",
       " 6,\n",
       " 5,\n",
       " 4,\n",
       " 5,\n",
       " 7,\n",
       " 7,\n",
       " 3,\n",
       " 8,\n",
       " 7,\n",
       " 2,\n",
       " 3,\n",
       " 2,\n",
       " 5,\n",
       " 8,\n",
       " 1,\n",
       " 0,\n",
       " 1,\n",
       " 7,\n",
       " 1,\n",
       " 7,\n",
       " 0,\n",
       " 5,\n",
       " 2,\n",
       " 1,\n",
       " 7,\n",
       " 9,\n",
       " 1,\n",
       " 7,\n",
       " 9,\n",
       " 5,\n",
       " 9,\n",
       " 9,\n",
       " 2,\n",
       " 8,\n",
       " 1,\n",
       " 7,\n",
       " 3,\n",
       " 2,\n",
       " 6,\n",
       " 7,\n",
       " 1,\n",
       " 1,\n",
       " 5,\n",
       " 1,\n",
       " 2,\n",
       " 5,\n",
       " 9,\n",
       " 0,\n",
       " 0,\n",
       " 4,\n",
       " 7,\n",
       " 1,\n",
       " 6,\n",
       " 1,\n",
       " 8,\n",
       " 4,\n",
       " 7,\n",
       " 8,\n",
       " 1,\n",
       " 2,\n",
       " 7,\n",
       " 0,\n",
       " 0,\n",
       " 5,\n",
       " 1,\n",
       " 0,\n",
       " 2,\n",
       " 4,\n",
       " 3,\n",
       " 3,\n",
       " 6,\n",
       " 1,\n",
       " 0,\n",
       " 4,\n",
       " 3,\n",
       " 8,\n",
       " 1,\n",
       " 4,\n",
       " 1,\n",
       " 0,\n",
       " 6,\n",
       " 3,\n",
       " 4,\n",
       " 1,\n",
       " 5,\n",
       " 2,\n",
       " 0,\n",
       " 7,\n",
       " 0,\n",
       " 6,\n",
       " 1,\n",
       " 0,\n",
       " 0,\n",
       " 4,\n",
       " 8,\n",
       " 1,\n",
       " 6,\n",
       " 7,\n",
       " 4,\n",
       " 0,\n",
       " 4,\n",
       " 4,\n",
       " 5,\n",
       " 0,\n",
       " 2,\n",
       " 6,\n",
       " 5,\n",
       " 3,\n",
       " 8,\n",
       " 9,\n",
       " 5,\n",
       " 1,\n",
       " 1,\n",
       " 7,\n",
       " 7,\n",
       " 0,\n",
       " 6,\n",
       " 6,\n",
       " 4,\n",
       " 2,\n",
       " 4,\n",
       " 2,\n",
       " 0,\n",
       " 5,\n",
       " 3,\n",
       " 1,\n",
       " 7,\n",
       " 0,\n",
       " 3,\n",
       " 4,\n",
       " 6,\n",
       " 9,\n",
       " 5,\n",
       " 8,\n",
       " 0,\n",
       " 5,\n",
       " 3,\n",
       " 8,\n",
       " 1,\n",
       " 5,\n",
       " 6,\n",
       " 2,\n",
       " 8,\n",
       " 8,\n",
       " 0,\n",
       " 5,\n",
       " 0,\n",
       " 7,\n",
       " 6,\n",
       " 0,\n",
       " 1,\n",
       " 1,\n",
       " 0,\n",
       " 9,\n",
       " 6,\n",
       " 3,\n",
       " 0,\n",
       " 1,\n",
       " 6,\n",
       " 1,\n",
       " 1,\n",
       " 0,\n",
       " 0,\n",
       " 5,\n",
       " 3,\n",
       " 7,\n",
       " 6,\n",
       " 6,\n",
       " 1,\n",
       " 3,\n",
       " 1,\n",
       " 2,\n",
       " 4,\n",
       " 6,\n",
       " 1,\n",
       " 1,\n",
       " 0,\n",
       " 8,\n",
       " 3,\n",
       " 0,\n",
       " 1,\n",
       " 9,\n",
       " 4,\n",
       " 2,\n",
       " 1,\n",
       " 0,\n",
       " 8,\n",
       " 3,\n",
       " 9,\n",
       " 1,\n",
       " 1,\n",
       " 0,\n",
       " 1,\n",
       " 6,\n",
       " 1,\n",
       " 3,\n",
       " 1,\n",
       " 4,\n",
       " 0,\n",
       " 6,\n",
       " 8,\n",
       " 4,\n",
       " 2,\n",
       " 1,\n",
       " 0,\n",
       " 8,\n",
       " 4,\n",
       " 8,\n",
       " 7,\n",
       " 9,\n",
       " 1,\n",
       " 4,\n",
       " 3,\n",
       " 7,\n",
       " 5,\n",
       " 7,\n",
       " 0,\n",
       " 9,\n",
       " 2,\n",
       " 0,\n",
       " 0,\n",
       " 7,\n",
       " 7,\n",
       " 1,\n",
       " 0,\n",
       " 0,\n",
       " 9,\n",
       " 2,\n",
       " 1,\n",
       " 1,\n",
       " 7,\n",
       " 1,\n",
       " 4,\n",
       " 5,\n",
       " 9,\n",
       " 6,\n",
       " 4,\n",
       " 0,\n",
       " 6,\n",
       " 9,\n",
       " 8,\n",
       " 7,\n",
       " 8,\n",
       " 9,\n",
       " 1,\n",
       " 3,\n",
       " 6,\n",
       " 0,\n",
       " 6,\n",
       " 0,\n",
       " 4,\n",
       " 3,\n",
       " 3,\n",
       " 9,\n",
       " 9,\n",
       " 9,\n",
       " 4,\n",
       " 0,\n",
       " 1,\n",
       " 9,\n",
       " 3,\n",
       " 1,\n",
       " 0,\n",
       " 4,\n",
       " 8,\n",
       " 4,\n",
       " 4,\n",
       " 8,\n",
       " 0,\n",
       " 0,\n",
       " 9,\n",
       " 4,\n",
       " 1,\n",
       " 6,\n",
       " 0,\n",
       " 1,\n",
       " 4,\n",
       " 3,\n",
       " 1,\n",
       " 0,\n",
       " 1,\n",
       " 3,\n",
       " 1,\n",
       " 0,\n",
       " 3,\n",
       " 0,\n",
       " 1,\n",
       " 0,\n",
       " 4,\n",
       " 2,\n",
       " 1,\n",
       " 6,\n",
       " 0,\n",
       " 5,\n",
       " 6,\n",
       " 8,\n",
       " 2,\n",
       " 3,\n",
       " 8,\n",
       " 3,\n",
       " 1,\n",
       " 6,\n",
       " 1,\n",
       " 2,\n",
       " 2,\n",
       " 4,\n",
       " 4,\n",
       " 6,\n",
       " 1,\n",
       " 1,\n",
       " 9,\n",
       " 1,\n",
       " 3,\n",
       " 5,\n",
       " 2,\n",
       " 6,\n",
       " 1,\n",
       " 6,\n",
       " 1,\n",
       " 1,\n",
       " 1,\n",
       " 1,\n",
       " 7,\n",
       " 0,\n",
       " 1,\n",
       " 7,\n",
       " 4,\n",
       " 4,\n",
       " 9,\n",
       " 1,\n",
       " 4,\n",
       " 6,\n",
       " 4,\n",
       " 0,\n",
       " 7,\n",
       " 1,\n",
       " 1,\n",
       " 1,\n",
       " 0,\n",
       " 0,\n",
       " 2,\n",
       " 4,\n",
       " 7,\n",
       " 2,\n",
       " 9,\n",
       " 4,\n",
       " 0,\n",
       " 8,\n",
       " 0,\n",
       " 8,\n",
       " 0,\n",
       " 2,\n",
       " 5,\n",
       " 1,\n",
       " 1,\n",
       " 9,\n",
       " 1,\n",
       " 2,\n",
       " 7,\n",
       " 5,\n",
       " 9,\n",
       " 5,\n",
       " 1,\n",
       " 7,\n",
       " 6,\n",
       " 0,\n",
       " 7,\n",
       " 0,\n",
       " 6]"
      ]
     },
     "execution_count": 204,
     "metadata": {},
     "output_type": "execute_result"
    }
   ],
   "source": [
    "%time my_clf.predict(X_test)"
   ]
  },
  {
   "cell_type": "code",
   "execution_count": 205,
   "metadata": {},
   "outputs": [
    {
     "name": "stdout",
     "output_type": "stream",
     "text": [
      "CPU times: user 1min 18s, sys: 35.8 ms, total: 1min 18s\n",
      "Wall time: 1min 18s\n"
     ]
    },
    {
     "data": {
      "text/plain": [
       "array([[0., 0., 0., ..., 1., 0., 0.],\n",
       "       [1., 0., 0., ..., 0., 0., 0.],\n",
       "       [1., 0., 0., ..., 0., 0., 0.],\n",
       "       ...,\n",
       "       [0., 0., 0., ..., 1., 0., 0.],\n",
       "       [0., 0., 0., ..., 0., 0., 0.],\n",
       "       [0., 0., 0., ..., 0., 0., 0.]])"
      ]
     },
     "execution_count": 205,
     "metadata": {},
     "output_type": "execute_result"
    }
   ],
   "source": [
    "%time clf.predict_proba(X_test)"
   ]
  },
  {
   "cell_type": "code",
   "execution_count": 206,
   "metadata": {},
   "outputs": [
    {
     "name": "stdout",
     "output_type": "stream",
     "text": [
      "CPU times: user 7min 44s, sys: 191 ms, total: 7min 44s\n",
      "Wall time: 7min 45s\n"
     ]
    },
    {
     "data": {
      "text/plain": [
       "array([[0. , 0. , 0. , ..., 1. , 0. , 0. ],\n",
       "       [1. , 0. , 0. , ..., 0. , 0. , 0. ],\n",
       "       [1. , 0. , 0. , ..., 0. , 0. , 0. ],\n",
       "       ...,\n",
       "       [0. , 0. , 0. , ..., 1. , 0. , 0. ],\n",
       "       [0.5, 0. , 0. , ..., 0. , 0.5, 0. ],\n",
       "       [0. , 0. , 0. , ..., 0. , 0. , 0. ]])"
      ]
     },
     "execution_count": 206,
     "metadata": {},
     "output_type": "execute_result"
    }
   ],
   "source": [
    "%time my_clf.predict_proba(X_test)"
   ]
  },
  {
   "cell_type": "code",
   "execution_count": 207,
   "metadata": {},
   "outputs": [
    {
     "data": {
      "text/plain": [
       "0.9671428571428572"
      ]
     },
     "execution_count": 207,
     "metadata": {},
     "output_type": "execute_result"
    }
   ],
   "source": [
    "clf.score(X_test, y_test)"
   ]
  },
  {
   "cell_type": "code",
   "execution_count": 209,
   "metadata": {},
   "outputs": [
    {
     "data": {
      "text/plain": [
       "0.76"
      ]
     },
     "execution_count": 209,
     "metadata": {},
     "output_type": "execute_result"
    }
   ],
   "source": [
    "my_clf.score(X_test, y_test)"
   ]
  },
  {
   "cell_type": "markdown",
   "metadata": {},
   "source": [
    "Задание 4"
   ]
  },
  {
   "cell_type": "code",
   "execution_count": 136,
   "metadata": {},
   "outputs": [],
   "source": [
    "clf = KNeighborsClassifier(n_neighbors=2, algorithm='kd_tree')\n",
    "my_clf = MyKNeighborsClassifier(n_neighbors=2, algorithm='kd_tree')"
   ]
  },
  {
   "cell_type": "code",
   "execution_count": 137,
   "metadata": {},
   "outputs": [],
   "source": [
    "X_train, X_test, y_train, y_test = train_test_split(mnist.data, mnist.target, test_size=0.01, stratify=mnist.target)"
   ]
  },
  {
   "cell_type": "code",
   "execution_count": 138,
   "metadata": {},
   "outputs": [
    {
     "name": "stdout",
     "output_type": "stream",
     "text": [
      "CPU times: user 33.7 s, sys: 152 ms, total: 33.9 s\n",
      "Wall time: 33.8 s\n"
     ]
    },
    {
     "data": {
      "text/plain": [
       "KNeighborsClassifier(algorithm='kd_tree', leaf_size=30, metric='minkowski',\n",
       "           metric_params=None, n_jobs=1, n_neighbors=2, p=2,\n",
       "           weights='uniform')"
      ]
     },
     "execution_count": 138,
     "metadata": {},
     "output_type": "execute_result"
    }
   ],
   "source": [
    "%time clf.fit(X_train, y_train)"
   ]
  },
  {
   "cell_type": "code",
   "execution_count": 139,
   "metadata": {},
   "outputs": [
    {
     "name": "stdout",
     "output_type": "stream",
     "text": [
      "CPU times: user 33.8 s, sys: 223 ms, total: 34 s\n",
      "Wall time: 33.9 s\n"
     ]
    }
   ],
   "source": [
    "%time my_clf.fit(X_train, y_train)"
   ]
  },
  {
   "cell_type": "code",
   "execution_count": 140,
   "metadata": {},
   "outputs": [
    {
     "name": "stdout",
     "output_type": "stream",
     "text": [
      "CPU times: user 1min 15s, sys: 19.6 ms, total: 1min 15s\n",
      "Wall time: 1min 15s\n"
     ]
    },
    {
     "data": {
      "text/plain": [
       "array([7., 9., 8., 7., 7., 4., 7., 3., 3., 4., 2., 7., 7., 7., 6., 8., 8.,\n",
       "       9., 6., 2., 3., 3., 8., 6., 2., 2., 9., 1., 5., 7., 1., 0., 8., 2.,\n",
       "       9., 1., 3., 3., 8., 9., 7., 0., 4., 2., 7., 7., 0., 2., 6., 5., 5.,\n",
       "       0., 6., 3., 0., 6., 8., 2., 2., 6., 5., 6., 7., 2., 0., 7., 2., 5.,\n",
       "       9., 7., 6., 0., 9., 2., 0., 8., 0., 4., 1., 4., 0., 3., 6., 4., 8.,\n",
       "       4., 5., 2., 6., 7., 7., 0., 9., 4., 6., 4., 3., 2., 2., 5., 0., 0.,\n",
       "       0., 7., 0., 1., 4., 1., 3., 7., 0., 1., 1., 5., 9., 1., 6., 5., 8.,\n",
       "       5., 6., 1., 9., 6., 8., 9., 2., 9., 2., 6., 7., 8., 1., 9., 4., 1.,\n",
       "       5., 4., 3., 4., 9., 2., 2., 4., 0., 3., 1., 9., 0., 3., 4., 7., 8.,\n",
       "       5., 9., 1., 4., 3., 1., 3., 4., 3., 9., 6., 8., 4., 2., 5., 3., 2.,\n",
       "       0., 2., 3., 0., 4., 7., 6., 0., 3., 4., 6., 8., 2., 7., 2., 2., 5.,\n",
       "       7., 4., 2., 9., 3., 5., 8., 1., 5., 4., 7., 2., 8., 2., 8., 2., 9.,\n",
       "       5., 8., 8., 0., 0., 7., 2., 7., 8., 3., 2., 3., 6., 9., 6., 4., 8.,\n",
       "       9., 6., 0., 5., 0., 4., 2., 6., 9., 6., 7., 9., 8., 2., 7., 3., 4.,\n",
       "       4., 9., 2., 9., 2., 2., 1., 3., 7., 6., 4., 8., 0., 0., 9., 1., 1.,\n",
       "       5., 6., 5., 0., 2., 7., 5., 3., 9., 8., 3., 0., 5., 7., 2., 0., 2.,\n",
       "       1., 0., 8., 3., 6., 7., 5., 6., 5., 6., 5., 9., 0., 0., 1., 6., 0.,\n",
       "       4., 0., 1., 7., 5., 1., 1., 8., 9., 7., 4., 1., 9., 9., 9., 6., 1.,\n",
       "       3., 4., 5., 1., 5., 5., 5., 3., 0., 4., 4., 1., 8., 7., 7., 7., 7.,\n",
       "       7., 1., 8., 1., 5., 6., 5., 1., 2., 7., 7., 4., 2., 0., 6., 1., 9.,\n",
       "       9., 3., 3., 9., 1., 1., 7., 2., 7., 3., 0., 4., 1., 3., 9., 9., 2.,\n",
       "       5., 3., 9., 2., 6., 0., 3., 1., 7., 1., 4., 1., 0., 4., 3., 4., 2.,\n",
       "       0., 3., 3., 8., 7., 1., 1., 9., 1., 1., 4., 1., 9., 6., 1., 7., 1.,\n",
       "       6., 5., 3., 1., 3., 4., 3., 5., 8., 0., 3., 7., 6., 6., 4., 3., 8.,\n",
       "       2., 7., 3., 4., 4., 0., 4., 9., 1., 8., 5., 8., 3., 2., 3., 9., 3.,\n",
       "       4., 9., 8., 9., 2., 5., 6., 5., 3., 3., 2., 4., 7., 8., 7., 6., 1.,\n",
       "       0., 6., 0., 8., 7., 4., 0., 1., 4., 3., 3., 8., 5., 2., 5., 9., 9.,\n",
       "       9., 1., 1., 0., 2., 3., 9., 3., 1., 1., 5., 1., 0., 3., 0., 7., 9.,\n",
       "       2., 6., 7., 1., 0., 5., 3., 7., 1., 9., 5., 8., 6., 3., 0., 5., 6.,\n",
       "       2., 8., 6., 6., 3., 9., 1., 0., 8., 3., 4., 1., 3., 8., 9., 7., 1.,\n",
       "       8., 6., 9., 1., 8., 3., 5., 7., 9., 6., 1., 7., 1., 1., 2., 7., 0.,\n",
       "       1., 1., 2., 5., 3., 1., 8., 0., 9., 9., 2., 0., 4., 2., 2., 9., 7.,\n",
       "       6., 7., 2., 8., 8., 6., 5., 3., 6., 6., 7., 5., 7., 7., 2., 8., 5.,\n",
       "       0., 8., 9., 4., 0., 2., 8., 6., 6., 1., 4., 7., 3., 8., 0., 1., 1.,\n",
       "       4., 6., 0., 4., 0., 0., 6., 7., 1., 6., 5., 8., 3., 9., 2., 0., 2.,\n",
       "       1., 7., 8., 0., 5., 6., 9., 7., 7., 2., 4., 3., 8., 5., 4., 7., 4.,\n",
       "       6., 7., 7., 0., 4., 7., 8., 4., 3., 1., 6., 5., 4., 2., 0., 7., 1.,\n",
       "       7., 8., 9., 3., 8., 3., 0., 4., 1., 5., 0., 1., 5., 5., 2., 6., 3.,\n",
       "       9., 9., 3., 3., 8., 0., 1., 1., 5., 4., 6., 5., 4., 9., 6., 1., 6.,\n",
       "       1., 0., 5., 5., 3., 6., 3., 2., 9., 4., 6., 3., 7., 4., 4., 2., 4.,\n",
       "       9., 1., 0., 1., 6., 5., 0., 1., 7., 5., 1., 6., 8., 4., 3., 0., 8.,\n",
       "       6., 2., 1.])"
      ]
     },
     "execution_count": 140,
     "metadata": {},
     "output_type": "execute_result"
    }
   ],
   "source": [
    "%time clf.predict(X_test)"
   ]
  },
  {
   "cell_type": "code",
   "execution_count": 141,
   "metadata": {},
   "outputs": [
    {
     "name": "stdout",
     "output_type": "stream",
     "text": [
      "CPU times: user 1min 2s, sys: 3.91 ms, total: 1min 2s\n",
      "Wall time: 1min 2s\n"
     ]
    },
    {
     "data": {
      "text/plain": [
       "array([7, 9, 8, 7, 7, 4, 7, 3, 3, 4, 2, 7, 7, 7, 6, 8, 8, 9, 6, 2, 3, 3,\n",
       "       8, 6, 2, 2, 9, 1, 5, 7, 1, 0, 8, 2, 9, 1, 3, 3, 8, 9, 7, 0, 4, 2,\n",
       "       7, 7, 0, 2, 6, 5, 5, 0, 6, 3, 0, 6, 8, 2, 2, 6, 5, 6, 7, 2, 0, 7,\n",
       "       2, 5, 9, 7, 6, 0, 9, 2, 0, 8, 0, 4, 1, 4, 0, 3, 6, 4, 8, 4, 5, 2,\n",
       "       6, 7, 7, 0, 9, 4, 6, 4, 3, 2, 2, 5, 0, 0, 0, 7, 0, 1, 4, 1, 3, 7,\n",
       "       0, 1, 1, 5, 9, 1, 6, 5, 8, 5, 6, 1, 9, 6, 8, 9, 2, 9, 2, 6, 7, 8,\n",
       "       1, 9, 4, 1, 5, 4, 3, 4, 9, 2, 2, 4, 0, 3, 1, 9, 0, 3, 4, 7, 8, 5,\n",
       "       9, 1, 4, 3, 1, 3, 4, 3, 9, 6, 8, 4, 2, 5, 3, 2, 0, 2, 3, 0, 4, 7,\n",
       "       6, 0, 3, 4, 6, 8, 2, 7, 2, 2, 5, 7, 4, 2, 9, 3, 5, 8, 1, 5, 4, 7,\n",
       "       2, 8, 2, 8, 2, 9, 5, 8, 8, 0, 0, 7, 2, 7, 8, 3, 2, 3, 6, 9, 6, 4,\n",
       "       8, 9, 6, 0, 5, 0, 4, 2, 6, 9, 6, 7, 9, 8, 2, 7, 3, 4, 4, 9, 2, 9,\n",
       "       2, 2, 1, 3, 7, 6, 4, 8, 0, 0, 9, 1, 1, 5, 6, 5, 0, 2, 7, 5, 3, 9,\n",
       "       8, 3, 0, 5, 7, 2, 0, 2, 1, 0, 8, 3, 6, 7, 5, 6, 5, 6, 5, 9, 0, 0,\n",
       "       1, 6, 0, 4, 0, 1, 7, 5, 1, 1, 8, 9, 7, 4, 1, 9, 9, 9, 6, 1, 3, 4,\n",
       "       5, 1, 5, 5, 5, 3, 0, 4, 4, 1, 8, 7, 7, 7, 7, 7, 1, 8, 1, 5, 6, 5,\n",
       "       1, 2, 7, 7, 4, 2, 0, 6, 1, 9, 9, 3, 3, 9, 1, 1, 7, 2, 7, 3, 0, 4,\n",
       "       1, 3, 9, 9, 2, 5, 3, 9, 2, 6, 0, 3, 1, 7, 1, 4, 1, 0, 4, 3, 4, 2,\n",
       "       0, 3, 3, 8, 7, 1, 1, 9, 1, 1, 4, 1, 9, 6, 1, 7, 1, 6, 5, 3, 1, 3,\n",
       "       4, 3, 5, 8, 0, 3, 7, 6, 6, 4, 3, 8, 2, 7, 3, 4, 4, 0, 4, 9, 1, 8,\n",
       "       5, 8, 3, 2, 3, 9, 3, 4, 9, 8, 9, 2, 5, 6, 5, 3, 3, 2, 4, 7, 8, 7,\n",
       "       6, 1, 0, 6, 0, 8, 7, 4, 0, 1, 4, 3, 3, 8, 5, 2, 5, 9, 9, 9, 1, 1,\n",
       "       0, 2, 3, 9, 3, 1, 1, 5, 1, 0, 3, 0, 7, 9, 2, 6, 7, 1, 0, 5, 3, 7,\n",
       "       1, 9, 5, 8, 6, 3, 0, 5, 6, 2, 8, 6, 6, 3, 9, 1, 0, 8, 3, 4, 1, 3,\n",
       "       8, 9, 7, 1, 8, 6, 9, 1, 8, 3, 5, 7, 9, 6, 1, 7, 1, 1, 2, 7, 0, 1,\n",
       "       1, 2, 5, 3, 1, 8, 0, 9, 9, 2, 0, 4, 2, 2, 9, 7, 6, 7, 2, 8, 8, 6,\n",
       "       5, 3, 6, 6, 7, 5, 7, 7, 2, 8, 5, 0, 8, 9, 4, 0, 2, 8, 6, 6, 1, 4,\n",
       "       7, 3, 8, 0, 1, 1, 4, 6, 0, 4, 0, 0, 6, 7, 1, 6, 5, 8, 3, 9, 2, 0,\n",
       "       2, 1, 7, 8, 0, 5, 6, 9, 7, 7, 2, 4, 3, 8, 5, 4, 7, 4, 6, 7, 7, 0,\n",
       "       4, 7, 8, 4, 3, 1, 6, 5, 4, 2, 0, 7, 1, 7, 8, 9, 3, 8, 3, 0, 4, 1,\n",
       "       5, 0, 1, 5, 5, 2, 6, 3, 9, 9, 3, 3, 8, 0, 1, 1, 5, 4, 6, 5, 4, 9,\n",
       "       6, 1, 6, 1, 0, 5, 5, 3, 6, 3, 2, 9, 4, 6, 3, 7, 4, 4, 2, 4, 9, 1,\n",
       "       0, 1, 6, 5, 0, 1, 7, 5, 1, 6, 8, 4, 3, 0, 8, 6, 2, 1])"
      ]
     },
     "execution_count": 141,
     "metadata": {},
     "output_type": "execute_result"
    }
   ],
   "source": [
    "%time my_clf.predict(X_test)"
   ]
  },
  {
   "cell_type": "code",
   "execution_count": 142,
   "metadata": {},
   "outputs": [
    {
     "name": "stdout",
     "output_type": "stream",
     "text": [
      "CPU times: user 1min 16s, sys: 39.6 ms, total: 1min 16s\n",
      "Wall time: 1min 16s\n"
     ]
    },
    {
     "data": {
      "text/plain": [
       "array([[0., 0., 0., ..., 1., 0., 0.],\n",
       "       [0., 0., 0., ..., 0., 0., 1.],\n",
       "       [0., 0., 0., ..., 0., 1., 0.],\n",
       "       ...,\n",
       "       [0., 0., 0., ..., 0., 0., 0.],\n",
       "       [0., 0., 1., ..., 0., 0., 0.],\n",
       "       [0., 1., 0., ..., 0., 0., 0.]])"
      ]
     },
     "execution_count": 142,
     "metadata": {},
     "output_type": "execute_result"
    }
   ],
   "source": [
    "%time clf.predict_proba(X_test)"
   ]
  },
  {
   "cell_type": "code",
   "execution_count": 143,
   "metadata": {},
   "outputs": [
    {
     "name": "stdout",
     "output_type": "stream",
     "text": [
      "CPU times: user 1min 2s, sys: 11.7 ms, total: 1min 2s\n",
      "Wall time: 1min 2s\n"
     ]
    },
    {
     "data": {
      "text/plain": [
       "array([[0., 0., 0., ..., 1., 0., 0.],\n",
       "       [0., 0., 0., ..., 0., 0., 1.],\n",
       "       [0., 0., 0., ..., 0., 1., 0.],\n",
       "       ...,\n",
       "       [0., 0., 0., ..., 0., 0., 0.],\n",
       "       [0., 0., 1., ..., 0., 0., 0.],\n",
       "       [0., 1., 0., ..., 0., 0., 0.]])"
      ]
     },
     "execution_count": 143,
     "metadata": {},
     "output_type": "execute_result"
    }
   ],
   "source": [
    "%time my_clf.predict_proba(X_test)"
   ]
  },
  {
   "cell_type": "code",
   "execution_count": 144,
   "metadata": {},
   "outputs": [
    {
     "data": {
      "text/plain": [
       "0.9671428571428572"
      ]
     },
     "execution_count": 144,
     "metadata": {},
     "output_type": "execute_result"
    }
   ],
   "source": [
    "clf.score(X_test, y_test)"
   ]
  },
  {
   "cell_type": "code",
   "execution_count": 145,
   "metadata": {},
   "outputs": [
    {
     "data": {
      "text/plain": [
       "0.9671428571428572"
      ]
     },
     "execution_count": 145,
     "metadata": {},
     "output_type": "execute_result"
    }
   ],
   "source": [
    "my_clf.score(X_test, y_test)"
   ]
  },
  {
   "cell_type": "markdown",
   "metadata": {},
   "source": [
    "Задание 5"
   ]
  },
  {
   "cell_type": "code",
   "execution_count": 216,
   "metadata": {},
   "outputs": [],
   "source": [
    "# seaborn - библиотека для визуализации данных (одной короткой строчкой. на коленке)\n",
    "# matplotlib - библиотека для визуализации данных (может визуализировать все и по-всякому)\n",
    "# train_test_split - функция из sklearn, перемешивает данные и \n",
    "# режет их в заданной пропроции на тестовую и обучающую выборку\n",
    "\n",
    "# Pipelin%load_ext e (from sklearn.pipeline import Pipeline) - синтаксическая конструкция \n",
    "# для загрузки расширенй в юпитер\n",
    "\n",
    "# StandardScaler (from sklearn.preprocessing import StandardScaler) - \n",
    "# класс из sklearn для статистичкской стандартизации фичей. Каждая фича обрабатывается независимо\n",
    "\n",
    "# ClassifierMixin - класс из sklearn, содержащий метод score, который возвращает среднюю точность данных\n",
    "# NeighborsBase - базовый класс sklearn для оценок ближайших соседей\n",
    "# KNeighborsMixin - класс из sklearn для поиска k-соседей\n",
    "# SupervisedIntegerMixin - класс sklearn, используемый для рандомизации в fit методе в классе NeighborsBase"
   ]
  },
  {
   "cell_type": "code",
   "execution_count": null,
   "metadata": {},
   "outputs": [],
   "source": []
  }
 ],
 "metadata": {
  "kernelspec": {
   "display_name": "Python 3",
   "language": "python",
   "name": "python3"
  },
  "language_info": {
   "codemirror_mode": {
    "name": "ipython",
    "version": 3
   },
   "file_extension": ".py",
   "mimetype": "text/x-python",
   "name": "python",
   "nbconvert_exporter": "python",
   "pygments_lexer": "ipython3",
   "version": "3.6.5"
  }
 },
 "nbformat": 4,
 "nbformat_minor": 2
}
