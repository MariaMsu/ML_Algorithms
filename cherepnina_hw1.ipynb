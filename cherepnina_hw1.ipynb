{
 "cells": [
  {
   "cell_type": "markdown",
   "metadata": {},
   "source": [
    "**Общая информация**\n",
    "\n",
    "**Срок сдачи:** 18 октября 2017, 06:00 <br\\>\n",
    "**Штраф за опоздание:** -2 балла после 06:00 18 октября, -4 балла после 06:00 25 октября, -6 баллов после 06:00 1 ноября\n",
    "\n",
    "При отправлении ДЗ указывайте фамилию в названии файла\n",
    "Присылать ДЗ необходимо в виде ссылки на свой github репозиторий в slack @alkhamush\n",
    "\n",
    "Необходимо в slack создать таск в приватный чат:\n",
    "/todo Фамилия Имя ссылка на гитхаб @alkhamush\n",
    "Пример:\n",
    "/todo Ксения Стройкова https://github.com/stroykova/spheremailru/stroykova_hw1.ipynb @alkhamush\n",
    "Дополнительно нужно просто скинуть ссылку в slack в личный чат\n",
    "\n",
    "Используйте данный Ipython Notebook при оформлении домашнего задания."
   ]
  },
  {
   "cell_type": "markdown",
   "metadata": {},
   "source": [
    "###### Задание 1 (2 баллов)\n",
    "Реализовать KNN в классе MyKNeighborsClassifier (обязательное условие: точность не ниже sklearn реализации)\n",
    "Разберитесь самостоятельно, какая мера расстояния используется в KNeighborsClassifier дефолтно и реализуйте свой алгоритм именно с этой мерой. Самостоятельно разберитесь, как считается score из KNeighborsClassifier и реализуйте аналог в своём классе. Score не должен уступать значению KNN из sklearn\n",
    "\n",
    "###### Задание 2 (2 балла)\n",
    "Добиться скорости работы на fit,  predict и predict_proba сравнимой со sklearn для iris и mnist\n",
    "Для этого используем numpy\n",
    "\n",
    "###### Задание 3 (2 балла)\n",
    "Для iris найдите такой параметр n_neighbors, при котором выдаётся наилучший score. Нарисуйте график зависимости score от n_neighbors\n",
    "\n",
    "###### Задание 4 (3 балла)\n",
    "Добавить algorithm='kd_tree' в реализацию KNN (использовать KDTree из sklearn.neighbors). Значение n_neighbors нужно взять из задания 3. Добиться скорости работы на fit,  predict и predict_proba сравнимой со sklearn для iris и mnist\n",
    "Для этого используем numpy. Score не должен уступать значению KNN из sklearn\n",
    "\n",
    "###### Задание 5 (1 балла)\n",
    "Описать для чего нужны следующие библиотеки/классы/функции (список будет ниже)\n",
    "\n",
    "**Штрафные баллы:**\n",
    "\n",
    "1. Невыполнение PEP8 -1 балл\n",
    "2. Отсутствие фамилии в имени скрипта (скрипт должен называться по аналогии со stroykova_hw1.ipynb) -1 балл\n",
    "3. Все строчки должны быть выполнены. Нужно, чтобы output команды можно было увидеть уже в git'е. В противном случае -1 балл\n",
    "4. При оформлении ДЗ нужно пользоваться данным файлом в качестве шаблона. Не нужно удалять и видоизменять структуру кода и текст. В противном случае -1 балл\n"
   ]
  },
  {
   "cell_type": "code",
   "execution_count": 5,
   "metadata": {
    "scrolled": false
   },
   "outputs": [
    {
     "name": "stdout",
     "output_type": "stream",
     "text": [
      "The pycodestyle_magic extension is already loaded. To reload it, use:\n",
      "  %reload_ext pycodestyle_magic\n"
     ]
    }
   ],
   "source": [
    "import numpy as np\n",
    "import pandas as pd\n",
    "import matplotlib.pyplot as plt\n",
    "import seaborn as sns\n",
    "\n",
    "from sklearn import neighbors\n",
    "from sklearn import datasets\n",
    "from sklearn.base import ClassifierMixin\n",
    "from sklearn.datasets import fetch_mldata\n",
    "from sklearn.neighbors.base import NeighborsBase, KNeighborsMixin, SupervisedIntegerMixin \n",
    "from sklearn.model_selection import train_test_split\n",
    "from sklearn.neighbors import KNeighborsClassifier\n",
    "from sklearn.preprocessing import normalize\n",
    "%load_ext pycodestyle_magic"
   ]
  },
  {
   "cell_type": "code",
   "execution_count": 51,
   "metadata": {},
   "outputs": [],
   "source": [
    "%%pycodestyle\n",
    "\n",
    "\n",
    "class MyKNeighborsClassifier(NeighborsBase,\n",
    "                             KNeighborsMixin,\n",
    "                             SupervisedIntegerMixin,\n",
    "                             ClassifierMixin):\n",
    "\n",
    "    def __init__(self, n_neighbors, algorithm='brute'):\n",
    "        self.n_neighbor = n_neighbors\n",
    "        self.algorithm = algorithm\n",
    "\n",
    "    def fit(self, X, y):\n",
    "        if self.algorithm == 'kd_tree':\n",
    "            arr = np.array(X)\n",
    "            self.train_y = np.array(y).astype(int)\n",
    "            self.tree = neighbors.KDTree(arr)\n",
    "        elif self.algorithm == 'brute':\n",
    "            self.train_x = np.array(X)\n",
    "            self.train_y = np.array(y).astype(int)\n",
    "        self.number_of_classes = len(np.unique(self.train_y))\n",
    "\n",
    "    def predict_brute(self, X):\n",
    "        test_labels = []\n",
    "        i1 = 0\n",
    "        while i1 < X.shape[0]:\n",
    "            test_dist = [[np.linalg.norm(X[i1] - self.train_x[i]),\n",
    "                         self.train_y[i]] for i in\n",
    "                         range(self.train_x.shape[0])]\n",
    "            stat = [0 for i in range(self.number_of_classes)]\n",
    "            for d in sorted(test_dist)[0:self.n_neighbor]:\n",
    "                stat[d[1]] += 1\n",
    "            test_labels.append(sorted(zip(stat,\n",
    "                               range(self.number_of_classes)),\n",
    "                               reverse=True)[0][1])\n",
    "            i1 += 1\n",
    "        return test_labels\n",
    "\n",
    "    def predict_proba_brute(self, X):\n",
    "        test_labels = np.array([])\n",
    "        for point in X:\n",
    "            test_dist = [[np.linalg.norm(point - self.train_x[i]),\n",
    "                         self.train_y[i]] for i in\n",
    "                         range(self.train_x.shape[0])]\n",
    "            stat = [0 for i in range(self.number_of_classes)]\n",
    "            for d in sorted(test_dist)[0:self.n_neighbor]:\n",
    "                stat[d[1]] += 1\n",
    "\n",
    "            test_labels = np.append(test_labels, stat)\n",
    "        test_labels.shape = (X.shape[0], self.number_of_classes)\n",
    "        test_labels = np.divide(test_labels, self.n_neighbor)\n",
    "        return test_labels\n",
    "\n",
    "    def predict_kd_tree(self, X):\n",
    "        test_labels = np.array([])\n",
    "        (dist, ind) = self.tree.query(X, k=self.n_neighbor)\n",
    "        for y in self.train_y[ind]:\n",
    "            test_labels = np.append(test_labels,\n",
    "                                    np.bincount(y).argmax())\n",
    "        return test_labels.astype(int)\n",
    "\n",
    "    def predict_proba_kd_tree(self, X):\n",
    "        test_labels = np.array([])\n",
    "        (dist, ind) = self.tree.query(X, k=self.n_neighbor)\n",
    "        for y in self.train_y[ind]:\n",
    "            stat = np.array([])\n",
    "            for i in range(self.number_of_classes):\n",
    "                stat = np.append(stat, np.count_nonzero(y == i))\n",
    "            test_labels = np.append(test_labels, stat)\n",
    "        test_labels.shape = (X.shape[0], self.number_of_classes)\n",
    "        test_labels = np.divide(test_labels, self.n_neighbor)\n",
    "        return test_labels\n",
    "\n",
    "    def predict(self, X):\n",
    "        if self.algorithm == 'brute':\n",
    "            return self.predict_brute(X)\n",
    "        elif self.algorithm == 'kd_tree':\n",
    "            return self.predict_kd_tree(X)\n",
    "\n",
    "    def predict_proba(self, X):\n",
    "        if self.algorithm == 'brute':\n",
    "            return self.predict_proba_brute(X)\n",
    "        elif self.algorithm == 'kd_tree':\n",
    "            return self.predict_proba_kd_tree(X)\n",
    "\n",
    "    def score(self, X, y):\n",
    "        vector = np.subtract(self.predict(X), y)\n",
    "        summa = np.count_nonzero(vector)\n",
    "        return 1 - summa / y.shape[0]"
   ]
  },
  {
   "cell_type": "markdown",
   "metadata": {},
   "source": [
    "**IRIS**"
   ]
  },
  {
   "cell_type": "code",
   "execution_count": 52,
   "metadata": {
    "scrolled": true
   },
   "outputs": [],
   "source": [
    "iris = datasets.load_iris()"
   ]
  },
  {
   "cell_type": "code",
   "execution_count": 53,
   "metadata": {},
   "outputs": [],
   "source": [
    "X_train, X_test, y_train, y_test = train_test_split(iris.data, iris.target, test_size=0.1, stratify=iris.target)"
   ]
  },
  {
   "cell_type": "code",
   "execution_count": 54,
   "metadata": {},
   "outputs": [],
   "source": [
    "clf = KNeighborsClassifier(n_neighbors=2)\n",
    "my_clf = MyKNeighborsClassifier(n_neighbors=2)"
   ]
  },
  {
   "cell_type": "code",
   "execution_count": 55,
   "metadata": {},
   "outputs": [
    {
     "name": "stdout",
     "output_type": "stream",
     "text": [
      "CPU times: user 1.82 ms, sys: 0 ns, total: 1.82 ms\n",
      "Wall time: 1.42 ms\n"
     ]
    },
    {
     "data": {
      "text/plain": [
       "KNeighborsClassifier(algorithm='auto', leaf_size=30, metric='minkowski',\n",
       "           metric_params=None, n_jobs=1, n_neighbors=2, p=2,\n",
       "           weights='uniform')"
      ]
     },
     "execution_count": 55,
     "metadata": {},
     "output_type": "execute_result"
    }
   ],
   "source": [
    "%time clf.fit(X_train, y_train)"
   ]
  },
  {
   "cell_type": "code",
   "execution_count": 56,
   "metadata": {},
   "outputs": [
    {
     "name": "stdout",
     "output_type": "stream",
     "text": [
      "CPU times: user 1.13 ms, sys: 3 µs, total: 1.13 ms\n",
      "Wall time: 815 µs\n"
     ]
    }
   ],
   "source": [
    "%time my_clf.fit(X_train, y_train)"
   ]
  },
  {
   "cell_type": "code",
   "execution_count": 57,
   "metadata": {},
   "outputs": [
    {
     "name": "stdout",
     "output_type": "stream",
     "text": [
      "CPU times: user 2.95 ms, sys: 8 µs, total: 2.96 ms\n",
      "Wall time: 2.72 ms\n"
     ]
    },
    {
     "data": {
      "text/plain": [
       "array([0, 0, 2, 1, 2, 1, 0, 0, 2, 2, 1, 2, 1, 0, 2])"
      ]
     },
     "execution_count": 57,
     "metadata": {},
     "output_type": "execute_result"
    }
   ],
   "source": [
    "%time clf.predict(X_test)"
   ]
  },
  {
   "cell_type": "code",
   "execution_count": 58,
   "metadata": {},
   "outputs": [
    {
     "name": "stdout",
     "output_type": "stream",
     "text": [
      "CPU times: user 21.8 ms, sys: 5 µs, total: 21.8 ms\n",
      "Wall time: 21 ms\n"
     ]
    },
    {
     "data": {
      "text/plain": [
       "[0, 0, 2, 1, 2, 1, 0, 0, 2, 2, 1, 2, 1, 0, 2]"
      ]
     },
     "execution_count": 58,
     "metadata": {},
     "output_type": "execute_result"
    }
   ],
   "source": [
    "%time my_clf.predict(X_test)"
   ]
  },
  {
   "cell_type": "code",
   "execution_count": 59,
   "metadata": {},
   "outputs": [
    {
     "name": "stdout",
     "output_type": "stream",
     "text": [
      "CPU times: user 2.16 ms, sys: 6 µs, total: 2.16 ms\n",
      "Wall time: 1.95 ms\n"
     ]
    },
    {
     "data": {
      "text/plain": [
       "array([[1., 0., 0.],\n",
       "       [1., 0., 0.],\n",
       "       [0., 0., 1.],\n",
       "       [0., 1., 0.],\n",
       "       [0., 0., 1.],\n",
       "       [0., 1., 0.],\n",
       "       [1., 0., 0.],\n",
       "       [1., 0., 0.],\n",
       "       [0., 0., 1.],\n",
       "       [0., 0., 1.],\n",
       "       [0., 1., 0.],\n",
       "       [0., 0., 1.],\n",
       "       [0., 1., 0.],\n",
       "       [1., 0., 0.],\n",
       "       [0., 0., 1.]])"
      ]
     },
     "execution_count": 59,
     "metadata": {},
     "output_type": "execute_result"
    }
   ],
   "source": [
    "%time clf.predict_proba(X_test)"
   ]
  },
  {
   "cell_type": "code",
   "execution_count": 60,
   "metadata": {},
   "outputs": [
    {
     "name": "stdout",
     "output_type": "stream",
     "text": [
      "CPU times: user 36.5 ms, sys: 1 µs, total: 36.5 ms\n",
      "Wall time: 43.4 ms\n"
     ]
    },
    {
     "data": {
      "text/plain": [
       "array([[1., 0., 0.],\n",
       "       [1., 0., 0.],\n",
       "       [0., 0., 1.],\n",
       "       [0., 1., 0.],\n",
       "       [0., 0., 1.],\n",
       "       [0., 1., 0.],\n",
       "       [1., 0., 0.],\n",
       "       [1., 0., 0.],\n",
       "       [0., 0., 1.],\n",
       "       [0., 0., 1.],\n",
       "       [0., 1., 0.],\n",
       "       [0., 0., 1.],\n",
       "       [0., 1., 0.],\n",
       "       [1., 0., 0.],\n",
       "       [0., 0., 1.]])"
      ]
     },
     "execution_count": 60,
     "metadata": {},
     "output_type": "execute_result"
    }
   ],
   "source": [
    "%time my_clf.predict_proba(X_test)"
   ]
  },
  {
   "cell_type": "code",
   "execution_count": 61,
   "metadata": {},
   "outputs": [
    {
     "data": {
      "text/plain": [
       "0.9333333333333333"
      ]
     },
     "execution_count": 61,
     "metadata": {},
     "output_type": "execute_result"
    }
   ],
   "source": [
    "clf.score(X_test, y_test)"
   ]
  },
  {
   "cell_type": "code",
   "execution_count": 62,
   "metadata": {},
   "outputs": [
    {
     "data": {
      "text/plain": [
       "0.9333333333333333"
      ]
     },
     "execution_count": 62,
     "metadata": {},
     "output_type": "execute_result"
    }
   ],
   "source": [
    "my_clf.score(X_test, y_test)"
   ]
  },
  {
   "cell_type": "markdown",
   "metadata": {},
   "source": [
    "Задание 3"
   ]
  },
  {
   "cell_type": "code",
   "execution_count": 19,
   "metadata": {},
   "outputs": [
    {
     "name": "stdout",
     "output_type": "stream",
     "text": [
      "best best_n_neighbors= 11\n"
     ]
    },
    {
     "data": {
      "text/plain": [
       "<matplotlib.axes._subplots.AxesSubplot at 0x7fa2e5162d30>"
      ]
     },
     "execution_count": 19,
     "metadata": {},
     "output_type": "execute_result"
    },
    {
     "data": {
      "image/png": "[encoded data removed]",
      "text/plain": [
       "<Figure size 432x288 with 1 Axes>"
      ]
     },
     "metadata": {},
     "output_type": "display_data"
    }
   ],
   "source": [
    "sns.set(style=\"darkgrid\")\n",
    "\n",
    "score = []\n",
    "n_neighbors = []\n",
    "best_n_neighbors = 0\n",
    "best_score = 0\n",
    "loop = 10\n",
    "for i in range(1, 15):\n",
    "    n_neighbors.append(i)\n",
    "    clf = KNeighborsClassifier(n_neighbors=i)\n",
    "    score_sum = 0\n",
    "    for j in range(loop):\n",
    "        X_train, X_test, y_train, y_test = train_test_split(iris.data,\n",
    "                                                            iris.target,\n",
    "                                                            test_size=0.1,\n",
    "                                                            stratify=iris.target)\n",
    "        clf.fit(X_train, y_train)\n",
    "        score_sum += clf.score(X_test, y_test)\n",
    "    sc = score_sum/loop  \n",
    "    score.append(sc)\n",
    "    if sc > best_score:\n",
    "        best_score = sc\n",
    "        best_best_n_neighbors = i\n",
    "\n",
    "d = {'score': score, 'n_neighbors': n_neighbors}\n",
    "df = pd.DataFrame(data=d)\n",
    "\n",
    "print(\"best best_n_neighbors=\", best_best_n_neighbors)\n",
    "# print(df)\n",
    "\n",
    "sns.lineplot(x=\"n_neighbors\", y=\"score\", data = df)"
   ]
  },
  {
   "cell_type": "markdown",
   "metadata": {},
   "source": [
    "**MNIST**"
   ]
  },
  {
   "cell_type": "code",
   "execution_count": 20,
   "metadata": {},
   "outputs": [],
   "source": [
    "mnist = fetch_mldata('MNIST original')"
   ]
  },
  {
   "cell_type": "code",
   "execution_count": 33,
   "metadata": {},
   "outputs": [],
   "source": [
    "X_train, X_test, y_train, y_test = train_test_split(mnist.data, mnist.target, test_size=0.01, stratify=mnist.target)"
   ]
  },
  {
   "cell_type": "code",
   "execution_count": 34,
   "metadata": {},
   "outputs": [],
   "source": [
    "clf = KNeighborsClassifier(n_neighbors=2)\n",
    "my_clf = MyKNeighborsClassifier(n_neighbors=2)"
   ]
  },
  {
   "cell_type": "code",
   "execution_count": 35,
   "metadata": {},
   "outputs": [
    {
     "name": "stdout",
     "output_type": "stream",
     "text": [
      "CPU times: user 38.5 s, sys: 236 ms, total: 38.7 s\n",
      "Wall time: 38.8 s\n"
     ]
    },
    {
     "data": {
      "text/plain": [
       "KNeighborsClassifier(algorithm='auto', leaf_size=30, metric='minkowski',\n",
       "           metric_params=None, n_jobs=1, n_neighbors=2, p=2,\n",
       "           weights='uniform')"
      ]
     },
     "execution_count": 35,
     "metadata": {},
     "output_type": "execute_result"
    }
   ],
   "source": [
    "%time clf.fit(X_train, y_train)"
   ]
  },
  {
   "cell_type": "code",
   "execution_count": 36,
   "metadata": {},
   "outputs": [
    {
     "name": "stdout",
     "output_type": "stream",
     "text": [
      "CPU times: user 13 ms, sys: 16 ms, total: 29 ms\n",
      "Wall time: 28.5 ms\n"
     ]
    }
   ],
   "source": [
    "%time my_clf.fit(X_train, y_train)"
   ]
  },
  {
   "cell_type": "code",
   "execution_count": 37,
   "metadata": {},
   "outputs": [
    {
     "name": "stdout",
     "output_type": "stream",
     "text": [
      "CPU times: user 1min 21s, sys: 91.7 ms, total: 1min 21s\n",
      "Wall time: 1min 22s\n"
     ]
    },
    {
     "data": {
      "text/plain": [
       "array([9., 6., 4., 3., 7., 3., 9., 5., 4., 7., 3., 4., 3., 5., 8., 0., 5.,\n",
       "       2., 0., 1., 1., 6., 9., 1., 3., 0., 2., 1., 0., 8., 8., 8., 0., 7.,\n",
       "       0., 8., 9., 6., 1., 0., 1., 5., 1., 5., 7., 9., 1., 6., 9., 2., 3.,\n",
       "       6., 6., 9., 4., 5., 5., 3., 9., 9., 4., 2., 6., 5., 7., 4., 2., 1.,\n",
       "       8., 3., 6., 6., 1., 3., 2., 9., 1., 4., 7., 1., 5., 3., 0., 4., 5.,\n",
       "       0., 9., 0., 8., 0., 9., 8., 0., 9., 8., 2., 4., 2., 5., 2., 7., 6.,\n",
       "       7., 3., 5., 4., 9., 7., 6., 6., 9., 7., 0., 7., 3., 4., 1., 0., 4.,\n",
       "       5., 9., 0., 3., 7., 6., 1., 0., 3., 3., 7., 5., 9., 2., 3., 4., 6.,\n",
       "       1., 5., 1., 5., 2., 1., 7., 3., 6., 2., 8., 5., 8., 2., 8., 0., 8.,\n",
       "       4., 6., 9., 1., 4., 2., 2., 2., 7., 3., 2., 7., 0., 9., 4., 4., 2.,\n",
       "       2., 7., 3., 6., 4., 6., 4., 9., 1., 4., 7., 3., 2., 7., 2., 4., 5.,\n",
       "       7., 2., 6., 9., 7., 6., 0., 4., 9., 9., 5., 6., 1., 0., 5., 7., 1.,\n",
       "       1., 3., 8., 9., 0., 6., 4., 8., 9., 1., 7., 7., 2., 9., 3., 7., 1.,\n",
       "       8., 5., 8., 2., 4., 5., 0., 0., 7., 3., 1., 0., 7., 7., 4., 2., 2.,\n",
       "       0., 0., 4., 7., 7., 4., 3., 4., 1., 9., 7., 7., 1., 5., 1., 9., 7.,\n",
       "       6., 4., 4., 2., 6., 1., 0., 9., 3., 0., 1., 6., 7., 7., 9., 5., 1.,\n",
       "       3., 1., 6., 4., 1., 5., 9., 6., 1., 0., 4., 9., 7., 3., 4., 3., 1.,\n",
       "       1., 4., 1., 8., 3., 2., 3., 0., 3., 3., 1., 3., 9., 1., 2., 4., 3.,\n",
       "       1., 2., 5., 1., 6., 7., 5., 1., 6., 9., 1., 6., 7., 3., 6., 6., 1.,\n",
       "       4., 8., 4., 8., 6., 9., 1., 7., 4., 5., 6., 1., 4., 5., 1., 2., 7.,\n",
       "       2., 3., 3., 7., 0., 4., 2., 6., 3., 2., 5., 7., 0., 7., 9., 3., 4.,\n",
       "       0., 8., 2., 1., 0., 0., 3., 3., 4., 5., 2., 7., 1., 2., 7., 8., 3.,\n",
       "       0., 7., 9., 7., 7., 5., 4., 3., 6., 1., 7., 6., 5., 7., 4., 0., 0.,\n",
       "       5., 8., 8., 5., 3., 4., 9., 6., 9., 7., 4., 7., 8., 5., 2., 8., 8.,\n",
       "       3., 0., 0., 0., 1., 8., 8., 8., 2., 8., 1., 7., 9., 7., 7., 9., 2.,\n",
       "       1., 0., 0., 8., 8., 0., 9., 3., 9., 1., 4., 1., 9., 2., 9., 5., 0.,\n",
       "       3., 2., 0., 7., 2., 6., 8., 2., 0., 2., 3., 7., 8., 6., 9., 7., 9.,\n",
       "       6., 0., 4., 7., 2., 8., 3., 5., 9., 3., 2., 0., 1., 6., 6., 6., 8.,\n",
       "       0., 5., 3., 5., 9., 8., 7., 7., 8., 7., 1., 9., 1., 5., 6., 5., 2.,\n",
       "       3., 9., 5., 9., 4., 3., 0., 4., 8., 5., 1., 2., 7., 3., 0., 8., 0.,\n",
       "       2., 5., 6., 5., 6., 4., 4., 3., 9., 8., 1., 3., 9., 2., 1., 0., 4.,\n",
       "       3., 8., 6., 9., 2., 0., 4., 9., 2., 7., 1., 9., 2., 6., 6., 4., 6.,\n",
       "       9., 8., 2., 3., 7., 5., 6., 6., 3., 2., 8., 9., 0., 8., 5., 0., 9.,\n",
       "       6., 5., 2., 4., 4., 3., 7., 3., 0., 2., 5., 0., 8., 5., 1., 6., 7.,\n",
       "       4., 1., 2., 1., 0., 8., 2., 7., 4., 1., 5., 4., 1., 2., 3., 9., 7.,\n",
       "       2., 4., 2., 1., 0., 4., 8., 9., 6., 8., 4., 5., 9., 3., 8., 2., 8.,\n",
       "       0., 4., 0., 1., 3., 1., 2., 1., 4., 8., 5., 6., 2., 1., 1., 0., 8.,\n",
       "       2., 6., 6., 5., 4., 7., 0., 6., 1., 7., 1., 3., 9., 8., 8., 7., 6.,\n",
       "       7., 8., 0., 0., 4., 7., 3., 2., 6., 4., 3., 2., 9., 5., 7., 1., 3.,\n",
       "       3., 1., 9., 6., 7., 3., 0., 9., 6., 2., 5., 9., 1., 8., 6., 5., 0.,\n",
       "       7., 8., 1., 6., 5., 5., 0., 1., 1., 5., 5., 0., 3., 8., 6., 8., 3.,\n",
       "       0., 6., 6.])"
      ]
     },
     "execution_count": 37,
     "metadata": {},
     "output_type": "execute_result"
    }
   ],
   "source": [
    "%time clf.predict(X_test)"
   ]
  },
  {
   "cell_type": "code",
   "execution_count": 38,
   "metadata": {},
   "outputs": [
    {
     "name": "stdout",
     "output_type": "stream",
     "text": [
      "CPU times: user 7min 49s, sys: 459 ms, total: 7min 49s\n",
      "Wall time: 7min 52s\n"
     ]
    },
    {
     "data": {
      "text/plain": [
       "[9,\n",
       " 6,\n",
       " 8,\n",
       " 3,\n",
       " 8,\n",
       " 3,\n",
       " 9,\n",
       " 8,\n",
       " 8,\n",
       " 7,\n",
       " 8,\n",
       " 4,\n",
       " 3,\n",
       " 5,\n",
       " 1,\n",
       " 0,\n",
       " 5,\n",
       " 2,\n",
       " 0,\n",
       " 1,\n",
       " 1,\n",
       " 6,\n",
       " 9,\n",
       " 1,\n",
       " 8,\n",
       " 0,\n",
       " 8,\n",
       " 1,\n",
       " 0,\n",
       " 8,\n",
       " 8,\n",
       " 8,\n",
       " 0,\n",
       " 7,\n",
       " 0,\n",
       " 9,\n",
       " 9,\n",
       " 6,\n",
       " 1,\n",
       " 0,\n",
       " 1,\n",
       " 8,\n",
       " 1,\n",
       " 5,\n",
       " 7,\n",
       " 9,\n",
       " 1,\n",
       " 6,\n",
       " 9,\n",
       " 8,\n",
       " 3,\n",
       " 6,\n",
       " 6,\n",
       " 9,\n",
       " 4,\n",
       " 8,\n",
       " 5,\n",
       " 8,\n",
       " 9,\n",
       " 9,\n",
       " 4,\n",
       " 8,\n",
       " 6,\n",
       " 5,\n",
       " 7,\n",
       " 4,\n",
       " 2,\n",
       " 1,\n",
       " 8,\n",
       " 3,\n",
       " 6,\n",
       " 6,\n",
       " 1,\n",
       " 1,\n",
       " 8,\n",
       " 9,\n",
       " 1,\n",
       " 8,\n",
       " 7,\n",
       " 1,\n",
       " 5,\n",
       " 3,\n",
       " 8,\n",
       " 9,\n",
       " 8,\n",
       " 0,\n",
       " 9,\n",
       " 0,\n",
       " 8,\n",
       " 0,\n",
       " 9,\n",
       " 8,\n",
       " 6,\n",
       " 9,\n",
       " 8,\n",
       " 8,\n",
       " 4,\n",
       " 8,\n",
       " 8,\n",
       " 8,\n",
       " 7,\n",
       " 6,\n",
       " 7,\n",
       " 8,\n",
       " 9,\n",
       " 4,\n",
       " 9,\n",
       " 7,\n",
       " 6,\n",
       " 6,\n",
       " 9,\n",
       " 7,\n",
       " 0,\n",
       " 7,\n",
       " 3,\n",
       " 9,\n",
       " 1,\n",
       " 0,\n",
       " 1,\n",
       " 5,\n",
       " 8,\n",
       " 0,\n",
       " 8,\n",
       " 7,\n",
       " 6,\n",
       " 1,\n",
       " 0,\n",
       " 3,\n",
       " 3,\n",
       " 9,\n",
       " 8,\n",
       " 9,\n",
       " 2,\n",
       " 8,\n",
       " 9,\n",
       " 1,\n",
       " 8,\n",
       " 5,\n",
       " 1,\n",
       " 8,\n",
       " 8,\n",
       " 1,\n",
       " 7,\n",
       " 3,\n",
       " 8,\n",
       " 7,\n",
       " 8,\n",
       " 5,\n",
       " 8,\n",
       " 2,\n",
       " 8,\n",
       " 0,\n",
       " 8,\n",
       " 4,\n",
       " 8,\n",
       " 9,\n",
       " 1,\n",
       " 9,\n",
       " 8,\n",
       " 2,\n",
       " 2,\n",
       " 9,\n",
       " 3,\n",
       " 8,\n",
       " 7,\n",
       " 0,\n",
       " 1,\n",
       " 7,\n",
       " 8,\n",
       " 3,\n",
       " 2,\n",
       " 9,\n",
       " 1,\n",
       " 6,\n",
       " 4,\n",
       " 6,\n",
       " 4,\n",
       " 9,\n",
       " 1,\n",
       " 9,\n",
       " 9,\n",
       " 8,\n",
       " 8,\n",
       " 7,\n",
       " 8,\n",
       " 4,\n",
       " 9,\n",
       " 7,\n",
       " 8,\n",
       " 6,\n",
       " 9,\n",
       " 7,\n",
       " 6,\n",
       " 0,\n",
       " 3,\n",
       " 9,\n",
       " 9,\n",
       " 6,\n",
       " 6,\n",
       " 1,\n",
       " 8,\n",
       " 5,\n",
       " 7,\n",
       " 1,\n",
       " 1,\n",
       " 3,\n",
       " 8,\n",
       " 9,\n",
       " 0,\n",
       " 6,\n",
       " 8,\n",
       " 1,\n",
       " 9,\n",
       " 1,\n",
       " 9,\n",
       " 7,\n",
       " 8,\n",
       " 7,\n",
       " 3,\n",
       " 9,\n",
       " 1,\n",
       " 8,\n",
       " 8,\n",
       " 8,\n",
       " 2,\n",
       " 4,\n",
       " 6,\n",
       " 0,\n",
       " 0,\n",
       " 7,\n",
       " 8,\n",
       " 1,\n",
       " 0,\n",
       " 9,\n",
       " 7,\n",
       " 4,\n",
       " 2,\n",
       " 2,\n",
       " 0,\n",
       " 1,\n",
       " 4,\n",
       " 7,\n",
       " 7,\n",
       " 4,\n",
       " 3,\n",
       " 4,\n",
       " 1,\n",
       " 1,\n",
       " 7,\n",
       " 7,\n",
       " 1,\n",
       " 8,\n",
       " 1,\n",
       " 9,\n",
       " 7,\n",
       " 6,\n",
       " 8,\n",
       " 4,\n",
       " 2,\n",
       " 3,\n",
       " 1,\n",
       " 0,\n",
       " 9,\n",
       " 3,\n",
       " 0,\n",
       " 1,\n",
       " 8,\n",
       " 7,\n",
       " 7,\n",
       " 9,\n",
       " 9,\n",
       " 1,\n",
       " 3,\n",
       " 1,\n",
       " 6,\n",
       " 4,\n",
       " 1,\n",
       " 5,\n",
       " 9,\n",
       " 6,\n",
       " 1,\n",
       " 8,\n",
       " 9,\n",
       " 9,\n",
       " 3,\n",
       " 8,\n",
       " 9,\n",
       " 3,\n",
       " 1,\n",
       " 1,\n",
       " 8,\n",
       " 1,\n",
       " 8,\n",
       " 8,\n",
       " 6,\n",
       " 9,\n",
       " 8,\n",
       " 3,\n",
       " 1,\n",
       " 1,\n",
       " 8,\n",
       " 9,\n",
       " 1,\n",
       " 2,\n",
       " 4,\n",
       " 8,\n",
       " 1,\n",
       " 8,\n",
       " 8,\n",
       " 1,\n",
       " 6,\n",
       " 7,\n",
       " 8,\n",
       " 1,\n",
       " 6,\n",
       " 9,\n",
       " 1,\n",
       " 8,\n",
       " 9,\n",
       " 3,\n",
       " 6,\n",
       " 6,\n",
       " 1,\n",
       " 9,\n",
       " 8,\n",
       " 8,\n",
       " 8,\n",
       " 6,\n",
       " 9,\n",
       " 1,\n",
       " 9,\n",
       " 4,\n",
       " 8,\n",
       " 0,\n",
       " 1,\n",
       " 1,\n",
       " 5,\n",
       " 1,\n",
       " 2,\n",
       " 7,\n",
       " 2,\n",
       " 9,\n",
       " 3,\n",
       " 7,\n",
       " 0,\n",
       " 4,\n",
       " 2,\n",
       " 6,\n",
       " 1,\n",
       " 8,\n",
       " 3,\n",
       " 7,\n",
       " 2,\n",
       " 7,\n",
       " 9,\n",
       " 1,\n",
       " 4,\n",
       " 0,\n",
       " 8,\n",
       " 8,\n",
       " 1,\n",
       " 0,\n",
       " 8,\n",
       " 3,\n",
       " 3,\n",
       " 4,\n",
       " 1,\n",
       " 6,\n",
       " 7,\n",
       " 1,\n",
       " 8,\n",
       " 7,\n",
       " 8,\n",
       " 8,\n",
       " 0,\n",
       " 7,\n",
       " 9,\n",
       " 7,\n",
       " 7,\n",
       " 5,\n",
       " 4,\n",
       " 3,\n",
       " 6,\n",
       " 1,\n",
       " 7,\n",
       " 6,\n",
       " 5,\n",
       " 9,\n",
       " 9,\n",
       " 0,\n",
       " 0,\n",
       " 5,\n",
       " 8,\n",
       " 8,\n",
       " 8,\n",
       " 8,\n",
       " 4,\n",
       " 9,\n",
       " 3,\n",
       " 9,\n",
       " 9,\n",
       " 1,\n",
       " 7,\n",
       " 8,\n",
       " 8,\n",
       " 2,\n",
       " 8,\n",
       " 8,\n",
       " 3,\n",
       " 0,\n",
       " 0,\n",
       " 0,\n",
       " 1,\n",
       " 8,\n",
       " 1,\n",
       " 8,\n",
       " 2,\n",
       " 3,\n",
       " 1,\n",
       " 7,\n",
       " 3,\n",
       " 7,\n",
       " 7,\n",
       " 4,\n",
       " 2,\n",
       " 1,\n",
       " 0,\n",
       " 0,\n",
       " 9,\n",
       " 8,\n",
       " 0,\n",
       " 9,\n",
       " 3,\n",
       " 9,\n",
       " 1,\n",
       " 4,\n",
       " 1,\n",
       " 9,\n",
       " 2,\n",
       " 9,\n",
       " 6,\n",
       " 8,\n",
       " 8,\n",
       " 8,\n",
       " 0,\n",
       " 9,\n",
       " 8,\n",
       " 6,\n",
       " 1,\n",
       " 2,\n",
       " 0,\n",
       " 8,\n",
       " 3,\n",
       " 7,\n",
       " 8,\n",
       " 6,\n",
       " 3,\n",
       " 7,\n",
       " 9,\n",
       " 6,\n",
       " 8,\n",
       " 8,\n",
       " 7,\n",
       " 8,\n",
       " 8,\n",
       " 3,\n",
       " 5,\n",
       " 9,\n",
       " 3,\n",
       " 2,\n",
       " 0,\n",
       " 1,\n",
       " 6,\n",
       " 6,\n",
       " 6,\n",
       " 8,\n",
       " 0,\n",
       " 5,\n",
       " 8,\n",
       " 8,\n",
       " 9,\n",
       " 8,\n",
       " 7,\n",
       " 8,\n",
       " 8,\n",
       " 7,\n",
       " 1,\n",
       " 9,\n",
       " 1,\n",
       " 5,\n",
       " 8,\n",
       " 5,\n",
       " 8,\n",
       " 8,\n",
       " 9,\n",
       " 5,\n",
       " 9,\n",
       " 4,\n",
       " 5,\n",
       " 0,\n",
       " 4,\n",
       " 8,\n",
       " 8,\n",
       " 1,\n",
       " 8,\n",
       " 7,\n",
       " 3,\n",
       " 0,\n",
       " 8,\n",
       " 0,\n",
       " 8,\n",
       " 8,\n",
       " 6,\n",
       " 5,\n",
       " 6,\n",
       " 1,\n",
       " 4,\n",
       " 8,\n",
       " 9,\n",
       " 1,\n",
       " 9,\n",
       " 1,\n",
       " 9,\n",
       " 2,\n",
       " 1,\n",
       " 0,\n",
       " 9,\n",
       " 8,\n",
       " 8,\n",
       " 6,\n",
       " 9,\n",
       " 8,\n",
       " 0,\n",
       " 5,\n",
       " 7,\n",
       " 8,\n",
       " 7,\n",
       " 1,\n",
       " 9,\n",
       " 2,\n",
       " 6,\n",
       " 6,\n",
       " 9,\n",
       " 6,\n",
       " 9,\n",
       " 8,\n",
       " 3,\n",
       " 8,\n",
       " 7,\n",
       " 5,\n",
       " 8,\n",
       " 6,\n",
       " 3,\n",
       " 2,\n",
       " 8,\n",
       " 9,\n",
       " 0,\n",
       " 1,\n",
       " 3,\n",
       " 0,\n",
       " 9,\n",
       " 6,\n",
       " 5,\n",
       " 2,\n",
       " 4,\n",
       " 4,\n",
       " 3,\n",
       " 7,\n",
       " 3,\n",
       " 0,\n",
       " 8,\n",
       " 6,\n",
       " 0,\n",
       " 8,\n",
       " 5,\n",
       " 1,\n",
       " 8,\n",
       " 9,\n",
       " 4,\n",
       " 1,\n",
       " 8,\n",
       " 1,\n",
       " 0,\n",
       " 8,\n",
       " 8,\n",
       " 7,\n",
       " 4,\n",
       " 1,\n",
       " 5,\n",
       " 8,\n",
       " 1,\n",
       " 8,\n",
       " 8,\n",
       " 9,\n",
       " 7,\n",
       " 8,\n",
       " 3,\n",
       " 2,\n",
       " 1,\n",
       " 8,\n",
       " 4,\n",
       " 8,\n",
       " 9,\n",
       " 6,\n",
       " 8,\n",
       " 4,\n",
       " 5,\n",
       " 9,\n",
       " 8,\n",
       " 8,\n",
       " 2,\n",
       " 8,\n",
       " 8,\n",
       " 4,\n",
       " 0,\n",
       " 1,\n",
       " 3,\n",
       " 1,\n",
       " 1,\n",
       " 1,\n",
       " 4,\n",
       " 8,\n",
       " 5,\n",
       " 6,\n",
       " 2,\n",
       " 1,\n",
       " 1,\n",
       " 0,\n",
       " 8,\n",
       " 3,\n",
       " 6,\n",
       " 6,\n",
       " 8,\n",
       " 8,\n",
       " 7,\n",
       " 0,\n",
       " 8,\n",
       " 1,\n",
       " 7,\n",
       " 1,\n",
       " 8,\n",
       " 9,\n",
       " 8,\n",
       " 8,\n",
       " 8,\n",
       " 6,\n",
       " 7,\n",
       " 1,\n",
       " 0,\n",
       " 0,\n",
       " 7,\n",
       " 7,\n",
       " 8,\n",
       " 2,\n",
       " 6,\n",
       " 4,\n",
       " 3,\n",
       " 2,\n",
       " 9,\n",
       " 6,\n",
       " 7,\n",
       " 1,\n",
       " 8,\n",
       " 8,\n",
       " 1,\n",
       " 9,\n",
       " 6,\n",
       " 7,\n",
       " 8,\n",
       " 0,\n",
       " 9,\n",
       " 6,\n",
       " 2,\n",
       " 5,\n",
       " 9,\n",
       " 1,\n",
       " 8,\n",
       " 6,\n",
       " 5,\n",
       " 8,\n",
       " 7,\n",
       " 8,\n",
       " 1,\n",
       " 6,\n",
       " 8,\n",
       " 5,\n",
       " 0,\n",
       " 1,\n",
       " 1,\n",
       " 8,\n",
       " 5,\n",
       " 0,\n",
       " 1,\n",
       " 8,\n",
       " 6,\n",
       " 5,\n",
       " 8,\n",
       " 0,\n",
       " 6,\n",
       " 6]"
      ]
     },
     "execution_count": 38,
     "metadata": {},
     "output_type": "execute_result"
    }
   ],
   "source": [
    "%time my_clf.predict(X_test)"
   ]
  },
  {
   "cell_type": "code",
   "execution_count": 39,
   "metadata": {},
   "outputs": [
    {
     "name": "stdout",
     "output_type": "stream",
     "text": [
      "CPU times: user 1min 18s, sys: 51.9 ms, total: 1min 18s\n",
      "Wall time: 1min 18s\n"
     ]
    },
    {
     "data": {
      "text/plain": [
       "array([[0., 0., 0., ..., 0., 0., 1.],\n",
       "       [0., 0., 0., ..., 0., 0., 0.],\n",
       "       [0., 0., 0., ..., 0., 0., 0.],\n",
       "       ...,\n",
       "       [1., 0., 0., ..., 0., 0., 0.],\n",
       "       [0., 0., 0., ..., 0., 0., 0.],\n",
       "       [0., 0., 0., ..., 0., 0., 0.]])"
      ]
     },
     "execution_count": 39,
     "metadata": {},
     "output_type": "execute_result"
    }
   ],
   "source": [
    "%time clf.predict_proba(X_test)"
   ]
  },
  {
   "cell_type": "code",
   "execution_count": 70,
   "metadata": {},
   "outputs": [
    {
     "name": "stdout",
     "output_type": "stream",
     "text": [
      "CPU times: user 1min 6s, sys: 44.1 ms, total: 1min 6s\n",
      "Wall time: 1min 6s\n"
     ]
    },
    {
     "data": {
      "text/plain": [
       "array([[0., 0., 0., ..., 0., 1., 0.],\n",
       "       [0., 0., 0., ..., 0., 0., 0.],\n",
       "       [0., 0., 0., ..., 0., 1., 0.],\n",
       "       ...,\n",
       "       [1., 0., 0., ..., 0., 0., 0.],\n",
       "       [0., 0., 0., ..., 0., 0., 1.],\n",
       "       [1., 0., 0., ..., 0., 0., 0.]])"
      ]
     },
     "execution_count": 70,
     "metadata": {},
     "output_type": "execute_result"
    }
   ],
   "source": [
    "%time my_clf.predict_proba(X_test)"
   ]
  },
  {
   "cell_type": "code",
   "execution_count": 28,
   "metadata": {},
   "outputs": [
    {
     "data": {
      "text/plain": [
       "0.9657142857142857"
      ]
     },
     "execution_count": 28,
     "metadata": {},
     "output_type": "execute_result"
    }
   ],
   "source": [
    "clf.score(X_test, y_test)"
   ]
  },
  {
   "cell_type": "code",
   "execution_count": 69,
   "metadata": {},
   "outputs": [
    {
     "data": {
      "text/plain": [
       "0.9728571428571429"
      ]
     },
     "execution_count": 69,
     "metadata": {},
     "output_type": "execute_result"
    }
   ],
   "source": [
    "my_clf.score(X_test, y_test)"
   ]
  },
  {
   "cell_type": "markdown",
   "metadata": {},
   "source": [
    "Задание 4"
   ]
  },
  {
   "cell_type": "code",
   "execution_count": 63,
   "metadata": {},
   "outputs": [],
   "source": [
    "clf = KNeighborsClassifier(n_neighbors=2, algorithm='kd_tree')\n",
    "my_clf = MyKNeighborsClassifier(n_neighbors=2, algorithm='kd_tree')"
   ]
  },
  {
   "cell_type": "code",
   "execution_count": 64,
   "metadata": {},
   "outputs": [],
   "source": [
    "X_train, X_test, y_train, y_test = train_test_split(mnist.data, mnist.target, test_size=0.01, stratify=mnist.target)"
   ]
  },
  {
   "cell_type": "code",
   "execution_count": 42,
   "metadata": {},
   "outputs": [
    {
     "name": "stdout",
     "output_type": "stream",
     "text": [
      "CPU times: user 36.9 s, sys: 164 ms, total: 37.1 s\n",
      "Wall time: 37 s\n"
     ]
    },
    {
     "data": {
      "text/plain": [
       "KNeighborsClassifier(algorithm='kd_tree', leaf_size=30, metric='minkowski',\n",
       "           metric_params=None, n_jobs=1, n_neighbors=2, p=2,\n",
       "           weights='uniform')"
      ]
     },
     "execution_count": 42,
     "metadata": {},
     "output_type": "execute_result"
    }
   ],
   "source": [
    "%time clf.fit(X_train, y_train)"
   ]
  },
  {
   "cell_type": "code",
   "execution_count": 65,
   "metadata": {},
   "outputs": [
    {
     "name": "stdout",
     "output_type": "stream",
     "text": [
      "CPU times: user 39.8 s, sys: 284 ms, total: 40.1 s\n",
      "Wall time: 40.5 s\n"
     ]
    }
   ],
   "source": [
    "%time my_clf.fit(X_train, y_train)"
   ]
  },
  {
   "cell_type": "code",
   "execution_count": 44,
   "metadata": {},
   "outputs": [
    {
     "name": "stdout",
     "output_type": "stream",
     "text": [
      "CPU times: user 1min 17s, sys: 28 ms, total: 1min 17s\n",
      "Wall time: 1min 17s\n"
     ]
    },
    {
     "data": {
      "text/plain": [
       "array([1., 4., 6., 9., 6., 1., 1., 0., 2., 0., 2., 6., 1., 9., 7., 8., 1.,\n",
       "       4., 8., 9., 1., 6., 6., 0., 4., 7., 4., 0., 1., 9., 1., 5., 1., 4.,\n",
       "       7., 3., 6., 7., 3., 7., 9., 3., 7., 5., 6., 2., 8., 5., 8., 4., 7.,\n",
       "       1., 0., 3., 0., 1., 6., 1., 4., 8., 7., 3., 1., 0., 1., 4., 6., 3.,\n",
       "       9., 9., 2., 2., 9., 7., 4., 9., 4., 2., 2., 1., 9., 8., 1., 6., 7.,\n",
       "       9., 7., 3., 6., 3., 0., 0., 4., 1., 2., 9., 3., 9., 8., 8., 8., 2.,\n",
       "       5., 7., 9., 9., 0., 2., 4., 6., 3., 7., 4., 1., 0., 8., 7., 0., 2.,\n",
       "       8., 9., 5., 3., 1., 0., 9., 7., 4., 1., 3., 2., 2., 4., 1., 0., 0.,\n",
       "       9., 5., 3., 0., 3., 4., 3., 1., 6., 1., 3., 6., 7., 7., 1., 5., 3.,\n",
       "       8., 4., 4., 3., 0., 9., 6., 5., 4., 7., 4., 3., 5., 2., 7., 1., 1.,\n",
       "       8., 0., 3., 1., 1., 9., 6., 4., 6., 1., 2., 8., 9., 6., 3., 1., 4.,\n",
       "       9., 0., 2., 9., 4., 0., 7., 8., 2., 3., 0., 0., 3., 6., 1., 9., 7.,\n",
       "       4., 4., 3., 0., 1., 1., 5., 7., 6., 6., 3., 0., 2., 0., 5., 5., 3.,\n",
       "       4., 2., 2., 1., 1., 5., 4., 6., 5., 5., 1., 8., 5., 6., 6., 5., 5.,\n",
       "       5., 4., 9., 2., 0., 0., 5., 1., 4., 9., 9., 2., 4., 4., 5., 5., 6.,\n",
       "       6., 8., 3., 2., 0., 9., 2., 0., 7., 1., 7., 3., 2., 2., 4., 8., 3.,\n",
       "       6., 5., 7., 0., 2., 3., 4., 1., 3., 3., 7., 4., 0., 5., 9., 7., 2.,\n",
       "       7., 2., 8., 4., 7., 0., 6., 7., 5., 0., 5., 6., 2., 3., 0., 4., 4.,\n",
       "       1., 4., 2., 3., 8., 3., 2., 3., 6., 7., 0., 0., 1., 9., 8., 1., 8.,\n",
       "       4., 4., 6., 9., 0., 2., 7., 7., 4., 8., 0., 4., 0., 9., 6., 9., 5.,\n",
       "       1., 6., 5., 8., 4., 5., 4., 2., 7., 0., 2., 1., 1., 1., 2., 1., 1.,\n",
       "       9., 7., 7., 9., 3., 4., 8., 2., 2., 0., 9., 2., 1., 7., 1., 9., 8.,\n",
       "       5., 9., 6., 1., 6., 0., 9., 3., 5., 2., 1., 2., 0., 8., 7., 4., 2.,\n",
       "       4., 7., 8., 1., 7., 5., 7., 7., 6., 7., 3., 3., 6., 3., 7., 8., 6.,\n",
       "       0., 8., 8., 7., 7., 6., 9., 7., 3., 5., 4., 3., 9., 9., 6., 8., 1.,\n",
       "       2., 1., 0., 0., 0., 6., 0., 1., 5., 1., 1., 1., 3., 1., 8., 5., 2.,\n",
       "       5., 5., 1., 0., 9., 6., 2., 5., 6., 6., 8., 4., 4., 2., 2., 1., 8.,\n",
       "       1., 8., 7., 0., 0., 0., 6., 5., 4., 6., 2., 8., 5., 1., 8., 8., 3.,\n",
       "       2., 1., 6., 5., 3., 1., 2., 7., 4., 9., 7., 7., 3., 0., 7., 1., 0.,\n",
       "       1., 2., 1., 8., 6., 9., 1., 9., 6., 4., 2., 7., 1., 1., 4., 2., 5.,\n",
       "       8., 7., 2., 6., 5., 0., 5., 9., 5., 5., 0., 0., 7., 1., 7., 3., 4.,\n",
       "       8., 3., 2., 6., 1., 2., 3., 9., 9., 4., 3., 2., 8., 3., 8., 3., 3.,\n",
       "       2., 2., 6., 9., 2., 2., 3., 9., 0., 6., 3., 4., 6., 9., 5., 3., 6.,\n",
       "       6., 7., 7., 3., 0., 9., 5., 8., 8., 0., 6., 4., 0., 7., 9., 4., 5.,\n",
       "       7., 7., 8., 7., 2., 8., 9., 4., 9., 6., 8., 4., 0., 4., 5., 3., 6.,\n",
       "       7., 2., 0., 5., 6., 3., 7., 3., 6., 2., 3., 5., 1., 4., 7., 3., 0.,\n",
       "       7., 1., 2., 3., 6., 4., 0., 8., 8., 1., 8., 0., 0., 8., 3., 7., 5.,\n",
       "       8., 4., 6., 5., 9., 8., 6., 0., 3., 2., 9., 2., 6., 5., 5., 5., 9.,\n",
       "       6., 2., 2., 0., 6., 8., 9., 8., 7., 8., 5., 5., 4., 3., 4., 2., 3.,\n",
       "       9., 8., 4., 9., 8., 7., 3., 1., 8., 6., 3., 4., 1., 7., 3., 3., 7.,\n",
       "       2., 9., 5., 6., 7., 8., 9., 6., 5., 6., 1., 5., 4., 9., 4., 7., 7.,\n",
       "       2., 3., 7.])"
      ]
     },
     "execution_count": 44,
     "metadata": {},
     "output_type": "execute_result"
    }
   ],
   "source": [
    "%time clf.predict(X_test)"
   ]
  },
  {
   "cell_type": "code",
   "execution_count": 66,
   "metadata": {},
   "outputs": [
    {
     "name": "stdout",
     "output_type": "stream",
     "text": [
      "CPU times: user 1min 5s, sys: 20 ms, total: 1min 5s\n",
      "Wall time: 1min 5s\n"
     ]
    },
    {
     "data": {
      "text/plain": [
       "array([8, 3, 8, 4, 8, 5, 9, 4, 0, 5, 9, 4, 3, 9, 1, 9, 4, 3, 9, 5, 0, 2,\n",
       "       7, 5, 1, 2, 2, 1, 7, 8, 6, 5, 6, 5, 2, 8, 4, 6, 8, 6, 0, 9, 1, 5,\n",
       "       1, 0, 8, 1, 5, 7, 8, 3, 5, 0, 3, 3, 6, 0, 0, 5, 0, 2, 9, 0, 8, 6,\n",
       "       3, 9, 8, 1, 6, 7, 2, 1, 4, 5, 3, 3, 1, 3, 8, 0, 9, 3, 9, 1, 3, 0,\n",
       "       0, 6, 4, 2, 5, 1, 9, 1, 3, 9, 0, 9, 7, 1, 3, 4, 7, 2, 1, 1, 1, 1,\n",
       "       9, 6, 7, 8, 8, 8, 2, 3, 7, 6, 0, 9, 8, 0, 7, 9, 8, 2, 0, 8, 5, 7,\n",
       "       4, 3, 2, 0, 7, 1, 9, 3, 9, 2, 0, 5, 5, 7, 6, 1, 1, 3, 5, 1, 6, 0,\n",
       "       8, 6, 6, 8, 9, 6, 9, 8, 2, 3, 4, 5, 4, 8, 1, 1, 1, 5, 7, 3, 3, 4,\n",
       "       6, 6, 1, 7, 9, 7, 8, 6, 8, 1, 7, 8, 6, 2, 0, 7, 1, 0, 0, 1, 8, 2,\n",
       "       1, 2, 2, 8, 5, 5, 1, 8, 7, 8, 1, 1, 9, 0, 3, 3, 9, 3, 0, 9, 0, 4,\n",
       "       5, 6, 1, 5, 5, 6, 9, 4, 6, 7, 6, 2, 8, 6, 1, 4, 8, 6, 6, 6, 8, 2,\n",
       "       4, 2, 7, 6, 0, 8, 7, 1, 0, 1, 3, 7, 4, 2, 8, 5, 0, 3, 3, 3, 2, 0,\n",
       "       1, 5, 8, 6, 3, 2, 8, 6, 7, 9, 6, 6, 2, 7, 7, 4, 2, 4, 9, 0, 9, 5,\n",
       "       5, 7, 2, 0, 9, 1, 4, 4, 2, 8, 2, 9, 1, 9, 2, 3, 3, 2, 2, 7, 4, 3,\n",
       "       5, 8, 9, 7, 4, 1, 7, 1, 4, 2, 7, 5, 8, 7, 1, 1, 5, 7, 4, 6, 6, 9,\n",
       "       4, 1, 1, 6, 4, 7, 1, 4, 4, 6, 3, 2, 5, 6, 8, 0, 0, 4, 8, 6, 4, 0,\n",
       "       2, 2, 7, 9, 0, 0, 1, 9, 3, 0, 6, 1, 8, 8, 5, 9, 9, 9, 6, 5, 5, 4,\n",
       "       9, 9, 7, 6, 4, 9, 0, 5, 3, 7, 7, 1, 7, 0, 3, 9, 1, 0, 3, 2, 4, 6,\n",
       "       0, 0, 6, 1, 1, 2, 1, 3, 0, 6, 4, 0, 2, 8, 2, 9, 5, 5, 7, 7, 9, 4,\n",
       "       4, 5, 9, 1, 9, 3, 5, 0, 0, 2, 1, 9, 7, 1, 3, 8, 6, 0, 9, 8, 8, 7,\n",
       "       1, 4, 5, 9, 3, 9, 1, 9, 2, 4, 2, 8, 8, 9, 7, 0, 7, 9, 0, 7, 6, 3,\n",
       "       7, 1, 3, 1, 2, 2, 7, 7, 2, 7, 8, 5, 1, 3, 3, 5, 1, 3, 8, 3, 1, 1,\n",
       "       7, 5, 9, 6, 3, 5, 3, 5, 6, 4, 2, 9, 7, 2, 3, 3, 9, 6, 6, 5, 4, 3,\n",
       "       6, 7, 9, 2, 8, 0, 6, 3, 1, 4, 2, 1, 5, 1, 6, 3, 3, 6, 8, 0, 4, 9,\n",
       "       9, 6, 1, 1, 2, 7, 1, 1, 6, 7, 3, 6, 1, 3, 7, 5, 7, 5, 9, 7, 3, 4,\n",
       "       0, 2, 7, 1, 2, 9, 4, 5, 3, 5, 5, 2, 7, 0, 0, 0, 4, 3, 5, 6, 7, 0,\n",
       "       2, 8, 6, 3, 4, 0, 4, 5, 5, 5, 6, 0, 3, 8, 1, 1, 2, 7, 3, 0, 2, 2,\n",
       "       3, 7, 0, 3, 8, 7, 0, 4, 5, 4, 4, 5, 3, 8, 4, 6, 1, 1, 6, 4, 2, 6,\n",
       "       6, 8, 6, 0, 4, 1, 9, 4, 1, 2, 6, 4, 2, 7, 4, 8, 7, 8, 0, 9, 3, 1,\n",
       "       7, 4, 9, 0, 4, 7, 9, 5, 0, 5, 4, 7, 4, 8, 8, 4, 7, 1, 8, 4, 2, 6,\n",
       "       3, 2, 4, 8, 2, 4, 7, 9, 0, 5, 5, 3, 3, 1, 8, 4, 3, 6, 4, 7, 9, 0,\n",
       "       0, 4, 7, 3, 2, 3, 0, 7, 2, 7, 2, 7, 3, 5, 2, 0, 9, 0])"
      ]
     },
     "execution_count": 66,
     "metadata": {},
     "output_type": "execute_result"
    }
   ],
   "source": [
    "%time my_clf.predict(X_test)"
   ]
  },
  {
   "cell_type": "code",
   "execution_count": 46,
   "metadata": {},
   "outputs": [
    {
     "name": "stdout",
     "output_type": "stream",
     "text": [
      "CPU times: user 1min 18s, sys: 35.9 ms, total: 1min 18s\n",
      "Wall time: 1min 18s\n"
     ]
    },
    {
     "data": {
      "text/plain": [
       "array([[0., 1., 0., ..., 0., 0., 0.],\n",
       "       [0., 0., 0., ..., 0., 0., 0.],\n",
       "       [0., 0., 0., ..., 0., 0., 0.],\n",
       "       ...,\n",
       "       [0., 0., 1., ..., 0., 0., 0.],\n",
       "       [0., 0., 0., ..., 0., 0., 0.],\n",
       "       [0., 0., 0., ..., 1., 0., 0.]])"
      ]
     },
     "execution_count": 46,
     "metadata": {},
     "output_type": "execute_result"
    }
   ],
   "source": [
    "%time clf.predict_proba(X_test)"
   ]
  },
  {
   "cell_type": "code",
   "execution_count": 67,
   "metadata": {},
   "outputs": [
    {
     "name": "stdout",
     "output_type": "stream",
     "text": [
      "CPU times: user 1min 6s, sys: 44 ms, total: 1min 6s\n",
      "Wall time: 1min 6s\n"
     ]
    },
    {
     "data": {
      "text/plain": [
       "array([[0., 0., 0., ..., 0., 1., 0.],\n",
       "       [0., 0., 0., ..., 0., 0., 0.],\n",
       "       [0., 0., 0., ..., 0., 1., 0.],\n",
       "       ...,\n",
       "       [1., 0., 0., ..., 0., 0., 0.],\n",
       "       [0., 0., 0., ..., 0., 0., 1.],\n",
       "       [1., 0., 0., ..., 0., 0., 0.]])"
      ]
     },
     "execution_count": 67,
     "metadata": {},
     "output_type": "execute_result"
    }
   ],
   "source": [
    "%time my_clf.predict_proba(X_test)"
   ]
  },
  {
   "cell_type": "code",
   "execution_count": 50,
   "metadata": {},
   "outputs": [
    {
     "data": {
      "text/plain": [
       "0.9714285714285714"
      ]
     },
     "execution_count": 50,
     "metadata": {},
     "output_type": "execute_result"
    }
   ],
   "source": [
    "clf.score(X_test, y_test)"
   ]
  },
  {
   "cell_type": "code",
   "execution_count": 68,
   "metadata": {},
   "outputs": [
    {
     "data": {
      "text/plain": [
       "0.9728571428571429"
      ]
     },
     "execution_count": 68,
     "metadata": {},
     "output_type": "execute_result"
    }
   ],
   "source": [
    "my_clf.score(X_test, y_test)"
   ]
  },
  {
   "cell_type": "markdown",
   "metadata": {},
   "source": [
    "Задание 5"
   ]
  },
  {
   "cell_type": "code",
   "execution_count": null,
   "metadata": {},
   "outputs": [],
   "source": [
    "# seaborn - библиотека для визуализации данных (одной короткой строчкой. на коленке)\n",
    "# matplotlib - библиотека для визуализации данных (может визуализировать все и по-всякому)\n",
    "# train_test_split - функция из sklearn, перемешивает данные и \n",
    "# режет их в заданной пропроции на тестовую и обучающую выборку\n",
    "\n",
    "# Pipelin%load_ext e (from sklearn.pipeline import Pipeline) - синтаксическая конструкция \n",
    "# для загрузки расширенй в юпитер\n",
    "\n",
    "# StandardScaler (from sklearn.preprocessing import StandardScaler) - \n",
    "# класс из sklearn для статистичкской стандартизации фичей. Каждая фича обрабатывается независимо\n",
    "\n",
    "# ClassifierMixin - класс из sklearn, содержащий метод score, который возвращает среднюю точность данных\n",
    "# NeighborsBase - базовый класс sklearn для оценок ближайших соседей\n",
    "# KNeighborsMixin - класс из sklearn для поиска k-соседей\n",
    "# SupervisedIntegerMixin - класс sklearn, используемый для рандомизации в fit методе в классе NeighborsBase"
   ]
  }
 ],
 "metadata": {
  "kernelspec": {
   "display_name": "Python 3",
   "language": "python",
   "name": "python3"
  },
  "language_info": {
   "codemirror_mode": {
    "name": "ipython",
    "version": 3
   },
   "file_extension": ".py",
   "mimetype": "text/x-python",
   "name": "python",
   "nbconvert_exporter": "python",
   "pygments_lexer": "ipython3",
   "version": "3.6.5"
  }
 },
 "nbformat": 4,
 "nbformat_minor": 2
}
