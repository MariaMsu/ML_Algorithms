{
 "cells": [
  {
   "cell_type": "markdown",
   "metadata": {},
   "source": [
    "# HW 1\n",
    "**Реализация алгоритма градиентного бустинга с Laplacianloss. В качестве базового алгоритма использовать алгоритм CART c линейными признаками (задача регрессии)**"
   ]
  },
  {
   "cell_type": "code",
   "execution_count": 1,
   "metadata": {},
   "outputs": [],
   "source": [
    "from sklearn.ensemble import GradientBoostingRegressor\n",
    "from sklearn.tree import DecisionTreeRegressor\n",
    "import numpy as np\n",
    "import matplotlib.pyplot as plt\n",
    "from sklearn.datasets import load_svmlight_file\n",
    "from sklearn.metrics import mean_squared_error\n",
    "from sklearn.metrics import mean_squared_error"
   ]
  },
  {
   "cell_type": "code",
   "execution_count": 2,
   "metadata": {},
   "outputs": [
    {
     "name": "stdout",
     "output_type": "stream",
     "text": [
      "train_x size (7200, 245), train_y size (7200,)\n",
      "test_x size (10050, 245), test_y size (10050,)\n"
     ]
    }
   ],
   "source": [
    "x_train, y_train = load_svmlight_file(\"Regression_dataset/reg.train.txt\")\n",
    "x_train = x_train.toarray()\n",
    "print(\"train_x size {}, train_y size {}\".format(x_train.shape, y_train.shape))\n",
    "\n",
    "x_test, y_test = load_svmlight_file(\"Regression_dataset/reg.test.txt\")\n",
    "x_test = x_test.toarray()\n",
    "print(\"test_x size {}, test_y size {}\".format(x_test.shape, y_test.shape))"
   ]
  },
  {
   "cell_type": "markdown",
   "metadata": {},
   "source": [
    "### Boosting sklearn"
   ]
  },
  {
   "cell_type": "code",
   "execution_count": 4,
   "metadata": {},
   "outputs": [
    {
     "name": "stdout",
     "output_type": "stream",
     "text": [
      "sklearn boosting MSE: 0.9377\n"
     ]
    }
   ],
   "source": [
    "N_ESTIMATORS = 100\n",
    "\n",
    "base_model = GradientBoostingRegressor(loss='lad', n_estimators=N_ESTIMATORS, max_depth=3)\n",
    "base_model.fit(x_train, y_train)\n",
    "mse = mean_squared_error(y_test, base_model.predict(x_test))\n",
    "print(\"sklearn boosting MSE: %.4f\" % mse)"
   ]
  },
  {
   "cell_type": "markdown",
   "metadata": {},
   "source": [
    "### Custom tree"
   ]
  },
  {
   "cell_type": "code",
   "execution_count": 10,
   "metadata": {},
   "outputs": [
    {
     "name": "stdout",
     "output_type": "stream",
     "text": [
      "my tree MSE: 0.8690\n",
      "CPU times: user 63.3 ms, sys: 92 µs, total: 63.4 ms\n",
      "Wall time: 62.6 ms\n"
     ]
    }
   ],
   "source": [
    "%%time\n",
    "class MyDecisionTreeRegressor:\n",
    "    NON_LEAF_TYPE = 'NON_LEAF'\n",
    "    LEAF_TYPE = 'LEAF'\n",
    "\n",
    "    def __init__(self,\n",
    "                 min_samples_split=3,\n",
    "                 max_depth=3,\n",
    "                 min_impurity_split=0.1,\n",
    "                 random_state=None,\n",
    "                 best_tail=3):\n",
    "\n",
    "        self.tree = dict()\n",
    "        self.min_samples_split = min_samples_split\n",
    "        self.max_depth = max_depth\n",
    "        self.min_variance_split = min_impurity_split\n",
    "        self.best_tail = best_tail\n",
    "\n",
    "    @staticmethod\n",
    "    def sort_samples_(x, y):\n",
    "        sorted_idx = x.argsort(axis=0)\n",
    "        return x[sorted_idx], y[sorted_idx]\n",
    "\n",
    "    @staticmethod\n",
    "    def divide_items_(x, y, feature_pair, threshold):\n",
    "        left_mask = (x[:, feature_pair[0]] + x[:, feature_pair[1]]) > threshold\n",
    "        right_mask = ~left_mask\n",
    "        return x[left_mask], x[right_mask], y[left_mask], y[right_mask]\n",
    "\n",
    "    @staticmethod\n",
    "    def get_variance_(y):\n",
    "        N = y.shape[1]\n",
    "        y_sq = y ** 2\n",
    "\n",
    "        sum_sq_left = (y_sq[:, :N - 1]).cumsum(1)\n",
    "        sum_sq_right = y_sq.sum(1)[:, None] - sum_sq_left\n",
    "        mean_sq_left = sum_sq_left / np.arange(1, N)\n",
    "        mean_sq_right = sum_sq_right / (N - np.arange(1, N))\n",
    "\n",
    "        sum_left = (y[:, :N - 1]).cumsum(1)\n",
    "        sum_right = y.sum(1)[:, None] - sum_left\n",
    "        mean_left = sum_left / np.arange(1, N)\n",
    "        mean_right = sum_right / (N - np.arange(1, N))\n",
    "\n",
    "        std_left = mean_sq_left - mean_left ** 2\n",
    "        std_right = mean_sq_right - mean_right ** 2\n",
    "        variance = std_left * (np.arange(1, N) / N) + std_right * ((N - np.arange(1, N)) / N)\n",
    "        return variance\n",
    "\n",
    "    @staticmethod\n",
    "    def get_border_ind_(x):\n",
    "        difference = np.diff(x, axis=0).T\n",
    "        ind = np.argwhere(np.abs(difference) > 1e-10)\n",
    "        border_ind = []\n",
    "        for i in range(x.shape[1]):\n",
    "            ind_in_column = ind[ind[:, 0] == i][:, 1]\n",
    "            if ind_in_column.shape[0] == 0:\n",
    "                ind_in_column = np.array([float('+inf')])\n",
    "            border_ind.append(ind_in_column)\n",
    "        return border_ind\n",
    "\n",
    "    def find_threshold_array_(self, x, y):\n",
    "        sorted_ids = np.argsort(x, axis=0)\n",
    "        sorted_x, sorted_y_t = x[sorted_ids, np.arange(x.shape[1])], y[sorted_ids].T\n",
    "        border_ind = self.get_border_ind_(sorted_x)\n",
    "        variance = self.get_variance_(sorted_y_t)\n",
    "        min_variance_ind = []\n",
    "        min_variance_no_ind = []\n",
    "\n",
    "        for feature_ind, border_ind in enumerate(border_ind):\n",
    "            if border_ind[0] == float('+inf'):\n",
    "                min_variance_ind.append(0)\n",
    "                min_variance_no_ind.append(len(min_variance_ind) - 1)\n",
    "                continue\n",
    "            idx = np.argmin(variance[feature_ind, border_ind])\n",
    "            min_variance_ind.append(border_ind[idx])\n",
    "\n",
    "        min_variance_ind = np.array(min_variance_ind)\n",
    "        min_variance_no_ind = np.array(min_variance_no_ind)\n",
    "        min_variance = variance[np.arange(variance.shape[0]), min_variance_ind.ravel()]\n",
    "\n",
    "        if min_variance_no_ind.shape[0] > 0:\n",
    "            min_variance[min_variance_no_ind] = float('+inf')\n",
    "\n",
    "        best_split_right_ind = min_variance_ind + 1\n",
    "        min_variance[best_split_right_ind <= self.min_samples_split] = np.float('+inf')\n",
    "        min_variance[best_split_right_ind >= sorted_y_t.shape[1] - self.min_samples_split] = np.float('+inf')\n",
    "        best_threshold = (sorted_x[min_variance_ind, np.arange(sorted_x.shape[1])]\n",
    "                          + sorted_x[best_split_right_ind, np.arange(sorted_x.shape[1])]) / 2\n",
    "        return min_variance, best_threshold\n",
    "\n",
    "    def fit(self, x, y):\n",
    "        assert x.ndim == 2\n",
    "        assert y.ndim == 1\n",
    "        self.best_tail = min(self.best_tail, x.shape[1])\n",
    "        self.fit_node_(x, y, 0, 0)\n",
    "        return self\n",
    "\n",
    "    def is_leaf_(self, x, y, depth):\n",
    "        return x.shape[0] < 2 * self.min_samples_split + 2 or np.unique(y).shape[0] == 1 or \\\n",
    "               self.max_depth is not None and depth >= self.max_depth or \\\n",
    "               self.min_variance_split is not None and np.mean((y - y.mean()) ** 2) < self.min_variance_split\n",
    "\n",
    "    def set_leaf_(self, x, y, node_id):\n",
    "        mean_value = y.mean()\n",
    "        self.tree[node_id] = {'type': self.LEAF_TYPE,\n",
    "                              'value': mean_value}\n",
    "\n",
    "    def fit_node_(self, x, y, node_id, depth):\n",
    "        if self.is_leaf_(x, y, depth):\n",
    "            self.set_leaf_(x, y, node_id)\n",
    "            return\n",
    "\n",
    "        variance, thresholds = self.find_threshold_array_(x, y)\n",
    "\n",
    "        first_range_ids = np.argpartition(variance, self.best_tail)[:self.best_tail]\n",
    "        tail_x = x[:, first_range_ids]\n",
    "        new_x = np.empty([tail_x.shape[0], tail_x.shape[1] * (tail_x.shape[1] + 1) // 2])\n",
    "        feature_mask = []\n",
    "        border = 0\n",
    "        for i in range(tail_x.shape[1]):\n",
    "            new_x[:, border: border + (tail_x.shape[1] - i)] = \\\n",
    "                np.repeat(tail_x[:, i, None], tail_x.shape[1] - i, axis=1) + tail_x[:, i: tail_x.shape[1]]\n",
    "            border += tail_x.shape[1] - i\n",
    "            feature_mask += [(i, j) for j in range((tail_x.shape[1] - i))]\n",
    "\n",
    "        variance, thresholds = self.find_threshold_array_(new_x, y)\n",
    "        best_feature_id = np.argmin(variance)\n",
    "        # print(np.array(feature_mask[best_feature_id.item()]))\n",
    "        feature_pair = first_range_ids[np.array(feature_mask[best_feature_id.item()])]\n",
    "        best_variance = variance[best_feature_id]\n",
    "        best_threshold = thresholds[best_feature_id]\n",
    "\n",
    "        if best_variance == float('+inf'):\n",
    "            self.set_leaf_(x, y, node_id)\n",
    "            return\n",
    "\n",
    "        left_x, right_x, left_y, right_y = self.divide_items_(x, y, feature_pair, best_threshold)\n",
    "\n",
    "        if left_x.shape[0] == 0 or right_x.shape[0] == 0:\n",
    "            self.set_leaf_(x, y, node_id)\n",
    "            return\n",
    "\n",
    "        self.tree[node_id] = {'type': self.NON_LEAF_TYPE,\n",
    "                              'feature_pair': feature_pair,\n",
    "                              'threshold': best_threshold}\n",
    "\n",
    "        self.fit_node_(left_x, left_y, 2 * node_id + 1, depth + 1)\n",
    "        self.fit_node_(right_x, right_y, 2 * node_id + 2, depth + 1)\n",
    "        return\n",
    "\n",
    "    def predict(self, x):\n",
    "        assert x.ndim == 2\n",
    "        return np.array([self.predict_value_(x, 0) for x in x])\n",
    "\n",
    "    def predict_value_(self, x, node_id):\n",
    "        node = self.tree[node_id]\n",
    "        if node['type'] == self.__class__.NON_LEAF_TYPE:\n",
    "            feature_pair, threshold = node['feature_pair'], node['threshold']\n",
    "            if x[feature_pair[0]] + x[feature_pair[1]] > threshold:\n",
    "                return self.predict_value_(x, 2 * node_id + 1)\n",
    "            else:\n",
    "                return self.predict_value_(x, 2 * node_id + 2)\n",
    "        else:\n",
    "            return node['value']\n",
    "        \n",
    "tree = MyDecisionTreeRegressor()\n",
    "tree.fit(x_train, y_train)\n",
    "mse = mean_squared_error(y_test, tree.predict(x_test))\n",
    "print(\"my tree MSE: %.4f\" % mse)"
   ]
  },
  {
   "cell_type": "markdown",
   "metadata": {},
   "source": [
    "### Custom gradient boosting"
   ]
  },
  {
   "cell_type": "code",
   "execution_count": 11,
   "metadata": {},
   "outputs": [
    {
     "name": "stdout",
     "output_type": "stream",
     "text": [
      "my boosting MSE: 0.8792\n"
     ]
    }
   ],
   "source": [
    "%%time\n",
    "\n",
    "class MyGradientBoostingRegressor:\n",
    "    def __init__(self, learning_rate=0.95,\n",
    "                 n_estimators=100,\n",
    "                 max_depth=3,\n",
    "                 random_state=None,\n",
    "                 verbose=False,\n",
    "                 base_estimator=DecisionTreeRegressor):\n",
    "\n",
    "        self.learning_rate = learning_rate\n",
    "        self.n_estimators = n_estimators\n",
    "        self.max_depth = max_depth\n",
    "        self.random_state = random_state\n",
    "        self.verbose = verbose\n",
    "        self.base_estimator = base_estimator\n",
    "\n",
    "        self.train_score_ = []\n",
    "        self.estimators = [None] * self.n_estimators\n",
    "\n",
    "    @staticmethod\n",
    "    def loss_(y_pred, y_true):\n",
    "        return np.abs(y_pred - y_true).mean()\n",
    "\n",
    "    @staticmethod\n",
    "    def negative_gradient_(y_pred, y_true):\n",
    "        return np.sign(y_true - y_pred)\n",
    "\n",
    "    @staticmethod\n",
    "    def bi_(array, sample_weight, percentile=50):\n",
    "        sorted_idx = np.argsort(array)\n",
    "        weight_cdf = np.cumsum(sample_weight[sorted_idx])\n",
    "        percentile_idx = np.searchsorted(weight_cdf, (percentile / 100.) * weight_cdf[-1])\n",
    "        percentile_idx = np.clip(percentile_idx, 0, len(sorted_idx) - 1)\n",
    "        return array[sorted_idx[percentile_idx]]\n",
    "\n",
    "\n",
    "    def fit(self, x, y):\n",
    "        self.weight = np.zeros(self.n_estimators, dtype=float)\n",
    "        self.estimators[0] = self.base_estimator(max_depth=self.max_depth).fit(x, y)\n",
    "        self.weight[0] = 1.0\n",
    "\n",
    "        prediction = self.estimators[0].predict(x)\n",
    "\n",
    "        if self.verbose:\n",
    "            print('estimator: {}, loss: {:.4f}, depth: {}'.\n",
    "                  format(0, self.loss_(y_true=y, y_pred=prediction), None))\n",
    "        self.train_score_.append(self.loss_(y_true=y, y_pred=prediction))\n",
    "\n",
    "        for i in range(1, self.n_estimators):\n",
    "\n",
    "            gi = self.negative_gradient_(prediction, y)\n",
    "            self.estimators[i] = self.base_estimator(max_depth=self.max_depth).fit(x, gi)\n",
    "\n",
    "            ai_predict = self.estimators[i].predict(x)\n",
    "            with np.errstate(divide='ignore'):\n",
    "                self.weight[i] = self.learning_rate * self.bi_((y - prediction)/ai_predict, np.abs(ai_predict))\n",
    "\n",
    "            prediction += self.weight[i] * ai_predict\n",
    "\n",
    "            if self.verbose:\n",
    "                print('estimator: {}, loss: {:.4f}, depth: {}'.\n",
    "                      format(i, self.loss_(y_true=y, y_pred=prediction), None))\n",
    "            self.train_score_.append(self.loss_(y_true=y, y_pred=prediction))\n",
    "        return self\n",
    "\n",
    "    def predict(self, x, y_true=None):\n",
    "        prediction = np.zeros(x.shape[0])\n",
    "        for i, model in enumerate(self.estimators):  # check\n",
    "            prediction += self.weight[i] * model.predict(x)\n",
    "            if self.verbose and y_true is not None:\n",
    "                print('estimators:{}  loss:{:.4f}'.format(i + 1, self.loss_(y_true=y_true, y_pred=prediction)))\n",
    "        return prediction\n",
    "\n",
    "    def staged_predict(self, x, y_true):\n",
    "        prediction = np.zeros(x.shape[0])\n",
    "        train_score = []\n",
    "        for i, model in enumerate(self.estimators):\n",
    "            prediction += self.weight[i] * model.predict(x)\n",
    "            if self.verbose and y_true is not None:\n",
    "                print('estimators:{}  loss:{:.4f}'.format(i + 1, self.loss_(y_true=y_true, y_pred=prediction)))\n",
    "            train_score.append(self.loss_(y_true=y_true, y_pred=prediction))\n",
    "        return prediction, train_score\n",
    "\n",
    "my_model = MyGradientBoostingRegressor(learning_rate=0.95, n_estimators=N_ESTIMATORS, max_depth=3, \n",
    "                                       base_estimator=MyDecisionTreeRegressor)\n",
    "my_model.fit(x_train, y_train)\n",
    "mse = mean_squared_error(y_test, my_model.predict(x_test))\n",
    "print(\"my boosting MSE: %.4f\" % mse)"
   ]
  },
  {
   "cell_type": "markdown",
   "metadata": {},
   "source": [
    "### Show graph"
   ]
  },
  {
   "cell_type": "code",
   "execution_count": 12,
   "metadata": {},
   "outputs": [
    {
     "data": {
      "text/plain": [
       "Text(0, 0.5, 'Deviance')"
      ]
     },
     "execution_count": 12,
     "metadata": {},
     "output_type": "execute_result"
    },
    {
     "data": {
      "image/png": "[encoded data removed]",
      "text/plain": [
       "<Figure size 720x432 with 1 Axes>"
      ]
     },
     "metadata": {
      "needs_background": "light"
     },
     "output_type": "display_data"
    }
   ],
   "source": [
    "base_test_score = np.zeros((N_ESTIMATORS,), dtype=np.float64)\n",
    "for i, y_pred in enumerate(base_model.staged_predict(x_test)):\n",
    "    base_test_score[i] = base_model.loss_(y_test, y_pred)\n",
    "\n",
    "\n",
    "my_model.verbose = False\n",
    "_, my_test_score = my_model.staged_predict(x_test, y_test)\n",
    "plt.figure(figsize=(10, 6))\n",
    "plt.title('Deviance')\n",
    "plt.plot(np.arange(N_ESTIMATORS) + 1, base_model.train_score_, 'm-', label='sklearn train')\n",
    "plt.plot(np.arange(N_ESTIMATORS) + 1, base_test_score, 'r-', label='sklearn test')\n",
    "plt.plot(np.arange(N_ESTIMATORS) + 1, my_model.train_score_[:N_ESTIMATORS], 'c-', label='my train')\n",
    "plt.plot(np.arange(N_ESTIMATORS) + 1, my_test_score[:N_ESTIMATORS], 'g-', label='my test')\n",
    "\n",
    "plt.plot([x * 1.03 for x in base_model.train_score_], 'm-', linestyle='--')\n",
    "plt.plot([x * 0.97 for x in base_model.train_score_], 'm-', linestyle='--')\n",
    "plt.plot([x * 1.03 for x in base_test_score], 'r-', linestyle='--')\n",
    "plt.plot([x * 0.97 for x in base_test_score], 'r-', linestyle='--')\n",
    "\n",
    "plt.legend(loc='upper right')\n",
    "plt.xlabel('Boosting Iterations')\n",
    "plt.ylabel('Deviance')"
   ]
  },
  {
   "cell_type": "markdown",
   "metadata": {},
   "source": [
    "DONE"
   ]
  },
  {
   "cell_type": "code",
   "execution_count": null,
   "metadata": {},
   "outputs": [],
   "source": []
  }
 ],
 "metadata": {
  "kernelspec": {
   "display_name": "Python 3",
   "language": "python",
   "name": "python3"
  },
  "language_info": {
   "codemirror_mode": {
    "name": "ipython",
    "version": 3
   },
   "file_extension": ".py",
   "mimetype": "text/x-python",
   "name": "python",
   "nbconvert_exporter": "python",
   "pygments_lexer": "ipython3",
   "version": "3.7.3"
  }
 },
 "nbformat": 4,
 "nbformat_minor": 2
}
